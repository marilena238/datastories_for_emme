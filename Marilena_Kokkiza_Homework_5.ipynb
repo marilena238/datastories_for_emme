{
  "cells": [
    {
      "cell_type": "markdown",
      "metadata": {
        "id": "view-in-github",
        "colab_type": "text"
      },
      "source": [
        "<a href=\"https://colab.research.google.com/github/marilena238/datastories_for_emme/blob/main/Marilena_Kokkiza_Homework_5.ipynb\" target=\"_parent\"><img src=\"https://colab.research.google.com/assets/colab-badge.svg\" alt=\"Open In Colab\"/></a>"
      ]
    },
    {
      "cell_type": "markdown",
      "id": "comprehensive-bikini",
      "metadata": {
        "id": "comprehensive-bikini"
      },
      "source": [
        "## Θα αναλύσουμε δεδομένα για τρομερά ατυχήματα που έχουν συμβεί σε εργαζόμενους. \n",
        "Το dataset είναι από εδώ: https://www.osha.gov/severeinjury/index.html"
      ]
    },
    {
      "cell_type": "code",
      "source": [
        "from google.colab import drive\n",
        "drive.mount('/content/drive')"
      ],
      "metadata": {
        "id": "cD8heBjoaiVQ",
        "outputId": "6d2ea239-d66f-4ce8-f82c-69bb88a8cee6",
        "colab": {
          "base_uri": "https://localhost:8080/"
        }
      },
      "id": "cD8heBjoaiVQ",
      "execution_count": null,
      "outputs": [
        {
          "output_type": "stream",
          "name": "stdout",
          "text": [
            "Mounted at /content/drive\n"
          ]
        }
      ]
    },
    {
      "cell_type": "markdown",
      "id": "purple-print",
      "metadata": {
        "id": "purple-print"
      },
      "source": [
        "Σήμερα θα κάνετε μόνοι σας ανάλυση στα δεδομένα με βάση όσα έχετε μάθει μέχρι στιγμής! Για να μάθετε περισσότερα για τους κωδικούς των ατυχημάτων πρέπει να διαβάσετε το αντίστοιχο documentation ( https://www.bls.gov/iif/oshoiics.htm), αυτό είναι η πρακτική στις περισσότερες περιπτώσεις που παίρνουμε έτοιμα δεδομένα από κάποια υπηρεσία. "
      ]
    },
    {
      "cell_type": "code",
      "execution_count": null,
      "id": "raising-houston",
      "metadata": {
        "id": "raising-houston"
      },
      "outputs": [],
      "source": [
        "import numpy as np\n",
        "import pandas as pd\n",
        "\n",
        "\n",
        "import matplotlib as mpl\n",
        "import matplotlib.pyplot as plt\n",
        "%matplotlib inline\n",
        "\n",
        "import warnings\n",
        "warnings.filterwarnings('ignore')"
      ]
    },
    {
      "cell_type": "code",
      "execution_count": null,
      "id": "active-wellington",
      "metadata": {
        "id": "active-wellington"
      },
      "outputs": [],
      "source": [
        "accidents = pd.read_csv(\"/content/drive/MyDrive/severe_injury.zip\", encoding=\"latin-1\")\n"
      ]
    },
    {
      "cell_type": "code",
      "execution_count": null,
      "id": "aggregate-reset",
      "metadata": {
        "id": "aggregate-reset",
        "outputId": "7816b9d1-8ac6-4def-c390-e3433d0928e0",
        "colab": {
          "base_uri": "https://localhost:8080/",
          "height": 681
        }
      },
      "outputs": [
        {
          "output_type": "execute_result",
          "data": {
            "text/plain": [
              "           ID     UPA EventDate  \\\n",
              "0  2015010015  931176  1/1/2015   \n",
              "1  2015010016  930267  1/1/2015   \n",
              "2  2015010018  929823  1/1/2015   \n",
              "3  2015010019  929711  1/1/2015   \n",
              "4  2015010020  929642  1/1/2015   \n",
              "\n",
              "                                         Employer               Address1  \\\n",
              "0  FCI Otisville Federal Correctional Institution         Two Mile Drive   \n",
              "1                      Kalahari Manufacturing LLC     171 Progress Drive   \n",
              "2                 Schneider National Bulk Carrier    420 CORAOPOLIS ROAD   \n",
              "3                       PEPSI BOTTLING GROUP INC.      4541 HOUSTON AVE.   \n",
              "4                 North American Pipe Corporation  210 South Arch Street   \n",
              "\n",
              "  Address2         City         State      Zip  Latitude  ...  Nature  \\\n",
              "0      NaN    OTISVILLE      NEW YORK  10963.0     41.46  ...     111   \n",
              "1      NaN  LAKE DELTON     WISCONSIN  53940.0     43.59  ...    1522   \n",
              "2      NaN   CORAOPOLIS  PENNSYLVANIA  15108.0     40.49  ...      10   \n",
              "3      NaN        MACON       GEORGIA  31206.0     32.77  ...    1972   \n",
              "4      NaN   JANESVILLE     WISCONSIN  53545.0     42.67  ...     111   \n",
              "\n",
              "                                     NatureTitle  Part of Body  \\\n",
              "0                                      Fractures           513   \n",
              "1             Second degree heat (thermal) burns           519   \n",
              "2  Traumatic injuries and disorders, unspecified          9999   \n",
              "3       Soreness, pain, hurt-nonspecified injury           510   \n",
              "4                                      Fractures          4429   \n",
              "\n",
              "                 Part of Body Title  Event  \\\n",
              "0                      Lower leg(s)   1214   \n",
              "1                    Leg(s), n.e.c.    317   \n",
              "2                   Nonclassifiable   4331   \n",
              "3               Leg(s), unspecified    640   \n",
              "4  Finger(s), fingernail(s), n.e.c.   6411   \n",
              "\n",
              "                                          EventTitle  Source  \\\n",
              "0  Injured by physical contact with person while ...    5721   \n",
              "1              Ignition of vapors, gases, or liquids    7261   \n",
              "2         Other fall to lower level less than 6 feet    8421   \n",
              "3  Caught in or compressed by equipment or object...    8623   \n",
              "4  Caught in running equipment or machinery durin...     350   \n",
              "\n",
              "                                         SourceTitle  Secondary Source  \\\n",
              "0                                          Co-worker            5772.0   \n",
              "1                 Welding, cutting, and blow torches               NaN   \n",
              "2                Semi, tractor-trailer, tanker truck             741.0   \n",
              "3                                Pallet jack-powered            8420.0   \n",
              "4  Metal, woodworking, and special material machi...               NaN   \n",
              "\n",
              "                              Secondary Source Title  \n",
              "0                      Inmate or detainee in custody  \n",
              "1                                                NaN  \n",
              "2                                      Ladders-fixed  \n",
              "3  Truck-motorized freight hauling and utility, u...  \n",
              "4                                                NaN  \n",
              "\n",
              "[5 rows x 26 columns]"
            ],
            "text/html": [
              "\n",
              "  <div id=\"df-24186ddd-dd27-4b5e-8836-2e6b6a14c17e\">\n",
              "    <div class=\"colab-df-container\">\n",
              "      <div>\n",
              "<style scoped>\n",
              "    .dataframe tbody tr th:only-of-type {\n",
              "        vertical-align: middle;\n",
              "    }\n",
              "\n",
              "    .dataframe tbody tr th {\n",
              "        vertical-align: top;\n",
              "    }\n",
              "\n",
              "    .dataframe thead th {\n",
              "        text-align: right;\n",
              "    }\n",
              "</style>\n",
              "<table border=\"1\" class=\"dataframe\">\n",
              "  <thead>\n",
              "    <tr style=\"text-align: right;\">\n",
              "      <th></th>\n",
              "      <th>ID</th>\n",
              "      <th>UPA</th>\n",
              "      <th>EventDate</th>\n",
              "      <th>Employer</th>\n",
              "      <th>Address1</th>\n",
              "      <th>Address2</th>\n",
              "      <th>City</th>\n",
              "      <th>State</th>\n",
              "      <th>Zip</th>\n",
              "      <th>Latitude</th>\n",
              "      <th>...</th>\n",
              "      <th>Nature</th>\n",
              "      <th>NatureTitle</th>\n",
              "      <th>Part of Body</th>\n",
              "      <th>Part of Body Title</th>\n",
              "      <th>Event</th>\n",
              "      <th>EventTitle</th>\n",
              "      <th>Source</th>\n",
              "      <th>SourceTitle</th>\n",
              "      <th>Secondary Source</th>\n",
              "      <th>Secondary Source Title</th>\n",
              "    </tr>\n",
              "  </thead>\n",
              "  <tbody>\n",
              "    <tr>\n",
              "      <th>0</th>\n",
              "      <td>2015010015</td>\n",
              "      <td>931176</td>\n",
              "      <td>1/1/2015</td>\n",
              "      <td>FCI Otisville Federal Correctional Institution</td>\n",
              "      <td>Two Mile Drive</td>\n",
              "      <td>NaN</td>\n",
              "      <td>OTISVILLE</td>\n",
              "      <td>NEW YORK</td>\n",
              "      <td>10963.0</td>\n",
              "      <td>41.46</td>\n",
              "      <td>...</td>\n",
              "      <td>111</td>\n",
              "      <td>Fractures</td>\n",
              "      <td>513</td>\n",
              "      <td>Lower leg(s)</td>\n",
              "      <td>1214</td>\n",
              "      <td>Injured by physical contact with person while ...</td>\n",
              "      <td>5721</td>\n",
              "      <td>Co-worker</td>\n",
              "      <td>5772.0</td>\n",
              "      <td>Inmate or detainee in custody</td>\n",
              "    </tr>\n",
              "    <tr>\n",
              "      <th>1</th>\n",
              "      <td>2015010016</td>\n",
              "      <td>930267</td>\n",
              "      <td>1/1/2015</td>\n",
              "      <td>Kalahari Manufacturing LLC</td>\n",
              "      <td>171 Progress Drive</td>\n",
              "      <td>NaN</td>\n",
              "      <td>LAKE DELTON</td>\n",
              "      <td>WISCONSIN</td>\n",
              "      <td>53940.0</td>\n",
              "      <td>43.59</td>\n",
              "      <td>...</td>\n",
              "      <td>1522</td>\n",
              "      <td>Second degree heat (thermal) burns</td>\n",
              "      <td>519</td>\n",
              "      <td>Leg(s), n.e.c.</td>\n",
              "      <td>317</td>\n",
              "      <td>Ignition of vapors, gases, or liquids</td>\n",
              "      <td>7261</td>\n",
              "      <td>Welding, cutting, and blow torches</td>\n",
              "      <td>NaN</td>\n",
              "      <td>NaN</td>\n",
              "    </tr>\n",
              "    <tr>\n",
              "      <th>2</th>\n",
              "      <td>2015010018</td>\n",
              "      <td>929823</td>\n",
              "      <td>1/1/2015</td>\n",
              "      <td>Schneider National Bulk Carrier</td>\n",
              "      <td>420 CORAOPOLIS ROAD</td>\n",
              "      <td>NaN</td>\n",
              "      <td>CORAOPOLIS</td>\n",
              "      <td>PENNSYLVANIA</td>\n",
              "      <td>15108.0</td>\n",
              "      <td>40.49</td>\n",
              "      <td>...</td>\n",
              "      <td>10</td>\n",
              "      <td>Traumatic injuries and disorders, unspecified</td>\n",
              "      <td>9999</td>\n",
              "      <td>Nonclassifiable</td>\n",
              "      <td>4331</td>\n",
              "      <td>Other fall to lower level less than 6 feet</td>\n",
              "      <td>8421</td>\n",
              "      <td>Semi, tractor-trailer, tanker truck</td>\n",
              "      <td>741.0</td>\n",
              "      <td>Ladders-fixed</td>\n",
              "    </tr>\n",
              "    <tr>\n",
              "      <th>3</th>\n",
              "      <td>2015010019</td>\n",
              "      <td>929711</td>\n",
              "      <td>1/1/2015</td>\n",
              "      <td>PEPSI BOTTLING GROUP INC.</td>\n",
              "      <td>4541 HOUSTON AVE.</td>\n",
              "      <td>NaN</td>\n",
              "      <td>MACON</td>\n",
              "      <td>GEORGIA</td>\n",
              "      <td>31206.0</td>\n",
              "      <td>32.77</td>\n",
              "      <td>...</td>\n",
              "      <td>1972</td>\n",
              "      <td>Soreness, pain, hurt-nonspecified injury</td>\n",
              "      <td>510</td>\n",
              "      <td>Leg(s), unspecified</td>\n",
              "      <td>640</td>\n",
              "      <td>Caught in or compressed by equipment or object...</td>\n",
              "      <td>8623</td>\n",
              "      <td>Pallet jack-powered</td>\n",
              "      <td>8420.0</td>\n",
              "      <td>Truck-motorized freight hauling and utility, u...</td>\n",
              "    </tr>\n",
              "    <tr>\n",
              "      <th>4</th>\n",
              "      <td>2015010020</td>\n",
              "      <td>929642</td>\n",
              "      <td>1/1/2015</td>\n",
              "      <td>North American Pipe Corporation</td>\n",
              "      <td>210 South Arch Street</td>\n",
              "      <td>NaN</td>\n",
              "      <td>JANESVILLE</td>\n",
              "      <td>WISCONSIN</td>\n",
              "      <td>53545.0</td>\n",
              "      <td>42.67</td>\n",
              "      <td>...</td>\n",
              "      <td>111</td>\n",
              "      <td>Fractures</td>\n",
              "      <td>4429</td>\n",
              "      <td>Finger(s), fingernail(s), n.e.c.</td>\n",
              "      <td>6411</td>\n",
              "      <td>Caught in running equipment or machinery durin...</td>\n",
              "      <td>350</td>\n",
              "      <td>Metal, woodworking, and special material machi...</td>\n",
              "      <td>NaN</td>\n",
              "      <td>NaN</td>\n",
              "    </tr>\n",
              "  </tbody>\n",
              "</table>\n",
              "<p>5 rows × 26 columns</p>\n",
              "</div>\n",
              "      <button class=\"colab-df-convert\" onclick=\"convertToInteractive('df-24186ddd-dd27-4b5e-8836-2e6b6a14c17e')\"\n",
              "              title=\"Convert this dataframe to an interactive table.\"\n",
              "              style=\"display:none;\">\n",
              "        \n",
              "  <svg xmlns=\"http://www.w3.org/2000/svg\" height=\"24px\"viewBox=\"0 0 24 24\"\n",
              "       width=\"24px\">\n",
              "    <path d=\"M0 0h24v24H0V0z\" fill=\"none\"/>\n",
              "    <path d=\"M18.56 5.44l.94 2.06.94-2.06 2.06-.94-2.06-.94-.94-2.06-.94 2.06-2.06.94zm-11 1L8.5 8.5l.94-2.06 2.06-.94-2.06-.94L8.5 2.5l-.94 2.06-2.06.94zm10 10l.94 2.06.94-2.06 2.06-.94-2.06-.94-.94-2.06-.94 2.06-2.06.94z\"/><path d=\"M17.41 7.96l-1.37-1.37c-.4-.4-.92-.59-1.43-.59-.52 0-1.04.2-1.43.59L10.3 9.45l-7.72 7.72c-.78.78-.78 2.05 0 2.83L4 21.41c.39.39.9.59 1.41.59.51 0 1.02-.2 1.41-.59l7.78-7.78 2.81-2.81c.8-.78.8-2.07 0-2.86zM5.41 20L4 18.59l7.72-7.72 1.47 1.35L5.41 20z\"/>\n",
              "  </svg>\n",
              "      </button>\n",
              "      \n",
              "  <style>\n",
              "    .colab-df-container {\n",
              "      display:flex;\n",
              "      flex-wrap:wrap;\n",
              "      gap: 12px;\n",
              "    }\n",
              "\n",
              "    .colab-df-convert {\n",
              "      background-color: #E8F0FE;\n",
              "      border: none;\n",
              "      border-radius: 50%;\n",
              "      cursor: pointer;\n",
              "      display: none;\n",
              "      fill: #1967D2;\n",
              "      height: 32px;\n",
              "      padding: 0 0 0 0;\n",
              "      width: 32px;\n",
              "    }\n",
              "\n",
              "    .colab-df-convert:hover {\n",
              "      background-color: #E2EBFA;\n",
              "      box-shadow: 0px 1px 2px rgba(60, 64, 67, 0.3), 0px 1px 3px 1px rgba(60, 64, 67, 0.15);\n",
              "      fill: #174EA6;\n",
              "    }\n",
              "\n",
              "    [theme=dark] .colab-df-convert {\n",
              "      background-color: #3B4455;\n",
              "      fill: #D2E3FC;\n",
              "    }\n",
              "\n",
              "    [theme=dark] .colab-df-convert:hover {\n",
              "      background-color: #434B5C;\n",
              "      box-shadow: 0px 1px 3px 1px rgba(0, 0, 0, 0.15);\n",
              "      filter: drop-shadow(0px 1px 2px rgba(0, 0, 0, 0.3));\n",
              "      fill: #FFFFFF;\n",
              "    }\n",
              "  </style>\n",
              "\n",
              "      <script>\n",
              "        const buttonEl =\n",
              "          document.querySelector('#df-24186ddd-dd27-4b5e-8836-2e6b6a14c17e button.colab-df-convert');\n",
              "        buttonEl.style.display =\n",
              "          google.colab.kernel.accessAllowed ? 'block' : 'none';\n",
              "\n",
              "        async function convertToInteractive(key) {\n",
              "          const element = document.querySelector('#df-24186ddd-dd27-4b5e-8836-2e6b6a14c17e');\n",
              "          const dataTable =\n",
              "            await google.colab.kernel.invokeFunction('convertToInteractive',\n",
              "                                                     [key], {});\n",
              "          if (!dataTable) return;\n",
              "\n",
              "          const docLinkHtml = 'Like what you see? Visit the ' +\n",
              "            '<a target=\"_blank\" href=https://colab.research.google.com/notebooks/data_table.ipynb>data table notebook</a>'\n",
              "            + ' to learn more about interactive tables.';\n",
              "          element.innerHTML = '';\n",
              "          dataTable['output_type'] = 'display_data';\n",
              "          await google.colab.output.renderOutput(dataTable, element);\n",
              "          const docLink = document.createElement('div');\n",
              "          docLink.innerHTML = docLinkHtml;\n",
              "          element.appendChild(docLink);\n",
              "        }\n",
              "      </script>\n",
              "    </div>\n",
              "  </div>\n",
              "  "
            ]
          },
          "metadata": {},
          "execution_count": 4
        }
      ],
      "source": [
        "accidents.head()"
      ]
    },
    {
      "cell_type": "markdown",
      "id": "recovered-maximum",
      "metadata": {
        "id": "recovered-maximum"
      },
      "source": [
        "## Πετάμε τις στήλες που δεν χρειαζόμαστε"
      ]
    },
    {
      "cell_type": "code",
      "execution_count": null,
      "id": "adopted-matthew",
      "metadata": {
        "id": "adopted-matthew"
      },
      "outputs": [],
      "source": [
        "accidents.drop([\"ID\",\"UPA\",\"Address1\",\"Address2\",\"Primary NAICS\",\"Inspection\",\n",
        "         \"Nature\",\"Part of Body\",\"Event\",\"Source\",\"Secondary Source\"],axis=1,inplace=True)"
      ]
    },
    {
      "cell_type": "markdown",
      "id": "ideal-ozone",
      "metadata": {
        "id": "ideal-ozone"
      },
      "source": [
        "## Και από εδώ και πέρα ξεκινούν οι δικές σας 10 ερωτήσεις στα δεδομένα! Φτιάξτε γραφήματα και βρείτε π.χ. σε ποιες βιομηχανίες συμβαίνουν τα περισσότερα ατυχήματα κλπ. Καλή επιτυχία!"
      ]
    },
    {
      "cell_type": "markdown",
      "source": [
        "1)Ποιά είναι τα τελευταία 5 ατυχήματα που έχουν γίνει?"
      ],
      "metadata": {
        "id": "3_qbpQBGC9e_"
      },
      "id": "3_qbpQBGC9e_"
    },
    {
      "cell_type": "code",
      "execution_count": null,
      "id": "aware-launch",
      "metadata": {
        "id": "aware-launch",
        "outputId": "cf9969d7-9c71-4a56-8727-bf1c339110af",
        "colab": {
          "base_uri": "https://localhost:8080/",
          "height": 791
        }
      },
      "outputs": [
        {
          "output_type": "execute_result",
          "data": {
            "text/plain": [
              "       EventDate                               Employer         City State  \\\n",
              "74875  6/30/2022           Thomasville Lumber Co., Inc.  THOMASVILLE    AL   \n",
              "74876  6/30/2022                         KyKenKee, Inc.        VANCE    AL   \n",
              "74877  6/30/2022                      Everlast Climbing     LAKELAND    FL   \n",
              "74878  6/30/2022  West River Electric Association, Inc.   RAPID CITY    SD   \n",
              "74879  6/30/2022              Oldcastle APG South, Inc.    PENSACOLA    FL   \n",
              "\n",
              "           Zip  Latitude  Longitude  Hospitalized  Amputation  \\\n",
              "74875  36784.0     31.96     -87.71           1.0         1.0   \n",
              "74876  35490.0     33.18     -87.22           0.0         1.0   \n",
              "74877  33811.0     27.99     -81.99           1.0         1.0   \n",
              "74878  57702.0     43.99    -102.99           1.0         0.0   \n",
              "74879  32514.0     30.50     -87.25           1.0         0.0   \n",
              "\n",
              "                                         Final Narrative  \\\n",
              "74875  A temporary employee was helping to change the...   \n",
              "74876  An employee was manually rotating a belt on a ...   \n",
              "74877  An employee was cutting a piece of tubing with...   \n",
              "74878  A two-person crew was replacing a 100-amp mete...   \n",
              "74879  An employee was sweeping near a conveyor belt ...   \n",
              "\n",
              "                         NatureTitle                     Part of Body Title  \\\n",
              "74875                    Amputations  Finger(s), fingernail(s), unspecified   \n",
              "74876                    Amputations                           Fingertip(s)   \n",
              "74877                    Amputations                           Fingertip(s)   \n",
              "74878  Electrical burns, unspecified            Multiple body parts, n.e.c.   \n",
              "74879                      Fractures                             Forearm(s)   \n",
              "\n",
              "                                              EventTitle  \\\n",
              "74875  Caught in or compressed by equipment or object...   \n",
              "74876  Compressed or pinched by shifting objects or e...   \n",
              "74877  Struck against moving part of machinery or equ...   \n",
              "74878  Direct exposure to electricity, greater than 2...   \n",
              "74879  Caught in running equipment or machinery durin...   \n",
              "\n",
              "                                 SourceTitle Secondary Source Title  \n",
              "74875                              Band saws                    NaN  \n",
              "74876                 Machinery, unspecified                    NaN  \n",
              "74877    Sawing machinery-stationary, n.e.c.                    NaN  \n",
              "74878  Power lines, transformers, convertors                    NaN  \n",
              "74879                         Conveyors-belt  Clothing, unspecified  "
            ],
            "text/html": [
              "\n",
              "  <div id=\"df-a444ea07-978e-4aaf-9514-17837f1b2460\">\n",
              "    <div class=\"colab-df-container\">\n",
              "      <div>\n",
              "<style scoped>\n",
              "    .dataframe tbody tr th:only-of-type {\n",
              "        vertical-align: middle;\n",
              "    }\n",
              "\n",
              "    .dataframe tbody tr th {\n",
              "        vertical-align: top;\n",
              "    }\n",
              "\n",
              "    .dataframe thead th {\n",
              "        text-align: right;\n",
              "    }\n",
              "</style>\n",
              "<table border=\"1\" class=\"dataframe\">\n",
              "  <thead>\n",
              "    <tr style=\"text-align: right;\">\n",
              "      <th></th>\n",
              "      <th>EventDate</th>\n",
              "      <th>Employer</th>\n",
              "      <th>City</th>\n",
              "      <th>State</th>\n",
              "      <th>Zip</th>\n",
              "      <th>Latitude</th>\n",
              "      <th>Longitude</th>\n",
              "      <th>Hospitalized</th>\n",
              "      <th>Amputation</th>\n",
              "      <th>Final Narrative</th>\n",
              "      <th>NatureTitle</th>\n",
              "      <th>Part of Body Title</th>\n",
              "      <th>EventTitle</th>\n",
              "      <th>SourceTitle</th>\n",
              "      <th>Secondary Source Title</th>\n",
              "    </tr>\n",
              "  </thead>\n",
              "  <tbody>\n",
              "    <tr>\n",
              "      <th>74875</th>\n",
              "      <td>6/30/2022</td>\n",
              "      <td>Thomasville Lumber Co., Inc.</td>\n",
              "      <td>THOMASVILLE</td>\n",
              "      <td>AL</td>\n",
              "      <td>36784.0</td>\n",
              "      <td>31.96</td>\n",
              "      <td>-87.71</td>\n",
              "      <td>1.0</td>\n",
              "      <td>1.0</td>\n",
              "      <td>A temporary employee was helping to change the...</td>\n",
              "      <td>Amputations</td>\n",
              "      <td>Finger(s), fingernail(s), unspecified</td>\n",
              "      <td>Caught in or compressed by equipment or object...</td>\n",
              "      <td>Band saws</td>\n",
              "      <td>NaN</td>\n",
              "    </tr>\n",
              "    <tr>\n",
              "      <th>74876</th>\n",
              "      <td>6/30/2022</td>\n",
              "      <td>KyKenKee, Inc.</td>\n",
              "      <td>VANCE</td>\n",
              "      <td>AL</td>\n",
              "      <td>35490.0</td>\n",
              "      <td>33.18</td>\n",
              "      <td>-87.22</td>\n",
              "      <td>0.0</td>\n",
              "      <td>1.0</td>\n",
              "      <td>An employee was manually rotating a belt on a ...</td>\n",
              "      <td>Amputations</td>\n",
              "      <td>Fingertip(s)</td>\n",
              "      <td>Compressed or pinched by shifting objects or e...</td>\n",
              "      <td>Machinery, unspecified</td>\n",
              "      <td>NaN</td>\n",
              "    </tr>\n",
              "    <tr>\n",
              "      <th>74877</th>\n",
              "      <td>6/30/2022</td>\n",
              "      <td>Everlast Climbing</td>\n",
              "      <td>LAKELAND</td>\n",
              "      <td>FL</td>\n",
              "      <td>33811.0</td>\n",
              "      <td>27.99</td>\n",
              "      <td>-81.99</td>\n",
              "      <td>1.0</td>\n",
              "      <td>1.0</td>\n",
              "      <td>An employee was cutting a piece of tubing with...</td>\n",
              "      <td>Amputations</td>\n",
              "      <td>Fingertip(s)</td>\n",
              "      <td>Struck against moving part of machinery or equ...</td>\n",
              "      <td>Sawing machinery-stationary, n.e.c.</td>\n",
              "      <td>NaN</td>\n",
              "    </tr>\n",
              "    <tr>\n",
              "      <th>74878</th>\n",
              "      <td>6/30/2022</td>\n",
              "      <td>West River Electric Association, Inc.</td>\n",
              "      <td>RAPID CITY</td>\n",
              "      <td>SD</td>\n",
              "      <td>57702.0</td>\n",
              "      <td>43.99</td>\n",
              "      <td>-102.99</td>\n",
              "      <td>1.0</td>\n",
              "      <td>0.0</td>\n",
              "      <td>A two-person crew was replacing a 100-amp mete...</td>\n",
              "      <td>Electrical burns, unspecified</td>\n",
              "      <td>Multiple body parts, n.e.c.</td>\n",
              "      <td>Direct exposure to electricity, greater than 2...</td>\n",
              "      <td>Power lines, transformers, convertors</td>\n",
              "      <td>NaN</td>\n",
              "    </tr>\n",
              "    <tr>\n",
              "      <th>74879</th>\n",
              "      <td>6/30/2022</td>\n",
              "      <td>Oldcastle APG South, Inc.</td>\n",
              "      <td>PENSACOLA</td>\n",
              "      <td>FL</td>\n",
              "      <td>32514.0</td>\n",
              "      <td>30.50</td>\n",
              "      <td>-87.25</td>\n",
              "      <td>1.0</td>\n",
              "      <td>0.0</td>\n",
              "      <td>An employee was sweeping near a conveyor belt ...</td>\n",
              "      <td>Fractures</td>\n",
              "      <td>Forearm(s)</td>\n",
              "      <td>Caught in running equipment or machinery durin...</td>\n",
              "      <td>Conveyors-belt</td>\n",
              "      <td>Clothing, unspecified</td>\n",
              "    </tr>\n",
              "  </tbody>\n",
              "</table>\n",
              "</div>\n",
              "      <button class=\"colab-df-convert\" onclick=\"convertToInteractive('df-a444ea07-978e-4aaf-9514-17837f1b2460')\"\n",
              "              title=\"Convert this dataframe to an interactive table.\"\n",
              "              style=\"display:none;\">\n",
              "        \n",
              "  <svg xmlns=\"http://www.w3.org/2000/svg\" height=\"24px\"viewBox=\"0 0 24 24\"\n",
              "       width=\"24px\">\n",
              "    <path d=\"M0 0h24v24H0V0z\" fill=\"none\"/>\n",
              "    <path d=\"M18.56 5.44l.94 2.06.94-2.06 2.06-.94-2.06-.94-.94-2.06-.94 2.06-2.06.94zm-11 1L8.5 8.5l.94-2.06 2.06-.94-2.06-.94L8.5 2.5l-.94 2.06-2.06.94zm10 10l.94 2.06.94-2.06 2.06-.94-2.06-.94-.94-2.06-.94 2.06-2.06.94z\"/><path d=\"M17.41 7.96l-1.37-1.37c-.4-.4-.92-.59-1.43-.59-.52 0-1.04.2-1.43.59L10.3 9.45l-7.72 7.72c-.78.78-.78 2.05 0 2.83L4 21.41c.39.39.9.59 1.41.59.51 0 1.02-.2 1.41-.59l7.78-7.78 2.81-2.81c.8-.78.8-2.07 0-2.86zM5.41 20L4 18.59l7.72-7.72 1.47 1.35L5.41 20z\"/>\n",
              "  </svg>\n",
              "      </button>\n",
              "      \n",
              "  <style>\n",
              "    .colab-df-container {\n",
              "      display:flex;\n",
              "      flex-wrap:wrap;\n",
              "      gap: 12px;\n",
              "    }\n",
              "\n",
              "    .colab-df-convert {\n",
              "      background-color: #E8F0FE;\n",
              "      border: none;\n",
              "      border-radius: 50%;\n",
              "      cursor: pointer;\n",
              "      display: none;\n",
              "      fill: #1967D2;\n",
              "      height: 32px;\n",
              "      padding: 0 0 0 0;\n",
              "      width: 32px;\n",
              "    }\n",
              "\n",
              "    .colab-df-convert:hover {\n",
              "      background-color: #E2EBFA;\n",
              "      box-shadow: 0px 1px 2px rgba(60, 64, 67, 0.3), 0px 1px 3px 1px rgba(60, 64, 67, 0.15);\n",
              "      fill: #174EA6;\n",
              "    }\n",
              "\n",
              "    [theme=dark] .colab-df-convert {\n",
              "      background-color: #3B4455;\n",
              "      fill: #D2E3FC;\n",
              "    }\n",
              "\n",
              "    [theme=dark] .colab-df-convert:hover {\n",
              "      background-color: #434B5C;\n",
              "      box-shadow: 0px 1px 3px 1px rgba(0, 0, 0, 0.15);\n",
              "      filter: drop-shadow(0px 1px 2px rgba(0, 0, 0, 0.3));\n",
              "      fill: #FFFFFF;\n",
              "    }\n",
              "  </style>\n",
              "\n",
              "      <script>\n",
              "        const buttonEl =\n",
              "          document.querySelector('#df-a444ea07-978e-4aaf-9514-17837f1b2460 button.colab-df-convert');\n",
              "        buttonEl.style.display =\n",
              "          google.colab.kernel.accessAllowed ? 'block' : 'none';\n",
              "\n",
              "        async function convertToInteractive(key) {\n",
              "          const element = document.querySelector('#df-a444ea07-978e-4aaf-9514-17837f1b2460');\n",
              "          const dataTable =\n",
              "            await google.colab.kernel.invokeFunction('convertToInteractive',\n",
              "                                                     [key], {});\n",
              "          if (!dataTable) return;\n",
              "\n",
              "          const docLinkHtml = 'Like what you see? Visit the ' +\n",
              "            '<a target=\"_blank\" href=https://colab.research.google.com/notebooks/data_table.ipynb>data table notebook</a>'\n",
              "            + ' to learn more about interactive tables.';\n",
              "          element.innerHTML = '';\n",
              "          dataTable['output_type'] = 'display_data';\n",
              "          await google.colab.output.renderOutput(dataTable, element);\n",
              "          const docLink = document.createElement('div');\n",
              "          docLink.innerHTML = docLinkHtml;\n",
              "          element.appendChild(docLink);\n",
              "        }\n",
              "      </script>\n",
              "    </div>\n",
              "  </div>\n",
              "  "
            ]
          },
          "metadata": {},
          "execution_count": 6
        }
      ],
      "source": [
        "accidents.tail()"
      ]
    },
    {
      "cell_type": "markdown",
      "source": [
        "2)Σύνολο ατυχημάτων σε κάθε ημερομηνία "
      ],
      "metadata": {
        "id": "MwcK3idPYvoC"
      },
      "id": "MwcK3idPYvoC"
    },
    {
      "cell_type": "code",
      "source": [
        "accidents.value_counts('EventDate')"
      ],
      "metadata": {
        "colab": {
          "base_uri": "https://localhost:8080/"
        },
        "id": "zBP1d2U9cNry",
        "outputId": "11c647e2-4632-4f0b-d693-c3c2bad5e398"
      },
      "id": "zBP1d2U9cNry",
      "execution_count": null,
      "outputs": [
        {
          "output_type": "execute_result",
          "data": {
            "text/plain": [
              "EventDate\n",
              "7/10/2019     68\n",
              "8/28/2018     61\n",
              "8/19/2019     59\n",
              "9/16/2019     58\n",
              "7/10/2018     58\n",
              "              ..\n",
              "12/25/2018     3\n",
              "1/2/2022       2\n",
              "4/12/2020      2\n",
              "11/26/2015     2\n",
              "12/25/2015     2\n",
              "Length: 2736, dtype: int64"
            ]
          },
          "metadata": {},
          "execution_count": 7
        }
      ]
    },
    {
      "cell_type": "markdown",
      "source": [
        "3)Ποιό είναι το σύνολο των ατυχημάτων που έχει συμβεί σε κάθε βιομηχανία?"
      ],
      "metadata": {
        "id": "A7XqGvwFTVSj"
      },
      "id": "A7XqGvwFTVSj"
    },
    {
      "cell_type": "code",
      "source": [
        "accidents.value_counts('Employer')"
      ],
      "metadata": {
        "colab": {
          "base_uri": "https://localhost:8080/"
        },
        "id": "HUP0bQO2cizj",
        "outputId": "20185753-d385-4df0-cf7f-129a259417b6"
      },
      "id": "HUP0bQO2cizj",
      "execution_count": null,
      "outputs": [
        {
          "output_type": "execute_result",
          "data": {
            "text/plain": [
              "Employer\n",
              "U.S. Postal Service              387\n",
              "United States Postal Service     197\n",
              "UPS                              184\n",
              "U.S. POSTAL SERVICE              133\n",
              "Walmart                          101\n",
              "                                ... \n",
              "Glister Mary Lee Corporation       1\n",
              "Glister Mary Lee Corporation       1\n",
              "Glister-Mary Lee Corporation       1\n",
              "Global  Source`                    1\n",
              "wingate companies                  1\n",
              "Length: 53717, dtype: int64"
            ]
          },
          "metadata": {},
          "execution_count": 8
        }
      ]
    },
    {
      "cell_type": "markdown",
      "source": [
        "4)Ποιές είναι οι 10 βιομηχανίες με τα περισσότερα ατυχήματα?"
      ],
      "metadata": {
        "id": "-eiK5BFyTrMn"
      },
      "id": "-eiK5BFyTrMn"
    },
    {
      "cell_type": "code",
      "source": [
        "accidents.value_counts('Employer').head(10).plot(kind='barh', color=['lightgreen', 'orange', 'pink', 'lightblue', 'yellow', 'turquoise'])\n"
      ],
      "metadata": {
        "colab": {
          "base_uri": "https://localhost:8080/",
          "height": 447
        },
        "id": "CdP3Q-8OdsfD",
        "outputId": "989e1f9a-d638-4ed2-c4f6-ba2a79172f4c"
      },
      "id": "CdP3Q-8OdsfD",
      "execution_count": null,
      "outputs": [
        {
          "output_type": "execute_result",
          "data": {
            "text/plain": [
              "<Axes: ylabel='Employer'>"
            ]
          },
          "metadata": {},
          "execution_count": 40
        },
        {
          "output_type": "display_data",
          "data": {
            "text/plain": [
              "<Figure size 640x480 with 1 Axes>"
            ],
            "image/png": "[encoded data removed]"
          },
          "metadata": {}
        }
      ]
    },
    {
      "cell_type": "code",
      "source": [
        "accidents.groupby('Employer')['Employer'].count().sort_values(ascending=False)"
      ],
      "metadata": {
        "colab": {
          "base_uri": "https://localhost:8080/"
        },
        "id": "zAmDKj7Zcr8s",
        "outputId": "e187009c-e958-4ebf-e940-97fb1c9d54c4"
      },
      "id": "zAmDKj7Zcr8s",
      "execution_count": null,
      "outputs": [
        {
          "output_type": "execute_result",
          "data": {
            "text/plain": [
              "Employer\n",
              "U.S. Postal Service              387\n",
              "United States Postal Service     197\n",
              "UPS                              184\n",
              "U.S. POSTAL SERVICE              133\n",
              "Walmart                          101\n",
              "                                ... \n",
              "Glister Mary Lee Corporation       1\n",
              "Glister Mary Lee Corporation       1\n",
              "Glister-Mary Lee Corporation       1\n",
              "Global  Source`                    1\n",
              "wingate companies                  1\n",
              "Name: Employer, Length: 53717, dtype: int64"
            ]
          },
          "metadata": {},
          "execution_count": 22
        }
      ]
    },
    {
      "cell_type": "code",
      "source": [
        "accidents.value_counts('EventDate')#[:10]\n",
        "accidents.value_counts('EventDate')\n",
        "accidents.groupby('EventDate').count()\n",
        "accidents.groupby('EventDate')['Employer'].count()\n",
        "accidents.groupby('EventDate')['Employer'].count().sort_values(ascending=False)"
      ],
      "metadata": {
        "colab": {
          "base_uri": "https://localhost:8080/"
        },
        "id": "HYOOWw8QYatU",
        "outputId": "5bfa84aa-7bee-435f-a7dd-decf99d99b6d"
      },
      "id": "HYOOWw8QYatU",
      "execution_count": null,
      "outputs": [
        {
          "output_type": "execute_result",
          "data": {
            "text/plain": [
              "EventDate\n",
              "7/10/2019     68\n",
              "8/28/2018     61\n",
              "8/19/2019     59\n",
              "9/16/2019     58\n",
              "7/10/2018     58\n",
              "              ..\n",
              "12/25/2018     3\n",
              "1/2/2022       2\n",
              "4/12/2020      2\n",
              "11/26/2015     2\n",
              "12/25/2015     2\n",
              "Name: Employer, Length: 2736, dtype: int64"
            ]
          },
          "metadata": {},
          "execution_count": 17
        }
      ]
    },
    {
      "cell_type": "code",
      "source": [
        "accidents.groupby('EventDate')['Employer'].count().sort_values(ascending=False)"
      ],
      "metadata": {
        "colab": {
          "base_uri": "https://localhost:8080/"
        },
        "id": "qiXPaAKCcHoR",
        "outputId": "a9fd62d2-0898-4069-ed39-7ed845e0b8a3"
      },
      "id": "qiXPaAKCcHoR",
      "execution_count": null,
      "outputs": [
        {
          "output_type": "execute_result",
          "data": {
            "text/plain": [
              "EventDate\n",
              "7/10/2019     68\n",
              "8/28/2018     61\n",
              "8/19/2019     59\n",
              "9/16/2019     58\n",
              "7/10/2018     58\n",
              "              ..\n",
              "12/25/2018     3\n",
              "1/2/2022       2\n",
              "4/12/2020      2\n",
              "11/26/2015     2\n",
              "12/25/2015     2\n",
              "Name: Employer, Length: 2736, dtype: int64"
            ]
          },
          "metadata": {},
          "execution_count": 18
        }
      ]
    },
    {
      "cell_type": "markdown",
      "source": [
        "5)Τι ατυχήματα συμβαίνουν και ποιοί είναι οι 10 πιο συχνοί τύποι?"
      ],
      "metadata": {
        "id": "pZ2BM8WrgAeK"
      },
      "id": "pZ2BM8WrgAeK"
    },
    {
      "cell_type": "code",
      "source": [
        "accidents.value_counts('EventTitle')"
      ],
      "metadata": {
        "colab": {
          "base_uri": "https://localhost:8080/"
        },
        "id": "-XyQePnQSKIA",
        "outputId": "3ef9467e-41d1-4295-ff45-cbe88b0e8545"
      },
      "id": "-XyQePnQSKIA",
      "execution_count": null,
      "outputs": [
        {
          "output_type": "execute_result",
          "data": {
            "text/plain": [
              "EventTitle\n",
              "Caught in running equipment or machinery during regular operation         5840\n",
              "Other fall to lower level, unspecified                                    4971\n",
              "Caught in running equipment or machinery during maintenance, cleaning     4523\n",
              "Compressed or pinched by shifting objects or equipment                    4386\n",
              "Fall on same level due to slipping                                        3166\n",
              "                                                                          ... \n",
              "Roadway noncollision incident, unspecified                                   1\n",
              "Rubbed or abraded by foreign matter in eye                                   1\n",
              "Rubbed or abraded by friction or pressure, unspecified                       1\n",
              "Running, without other incident, unspecified                                 1\n",
              "Water vehicle or propeller struck person                                     1\n",
              "Length: 360, dtype: int64"
            ]
          },
          "metadata": {},
          "execution_count": 10
        }
      ]
    },
    {
      "cell_type": "code",
      "source": [
        "accidents.value_counts('EventTitle').head(10).plot(kind='pie')"
      ],
      "metadata": {
        "colab": {
          "base_uri": "https://localhost:8080/",
          "height": 443
        },
        "id": "2wNNPyzmVPni",
        "outputId": "b031acc3-4322-48fe-ee0a-e25134ebf4be"
      },
      "id": "2wNNPyzmVPni",
      "execution_count": null,
      "outputs": [
        {
          "output_type": "execute_result",
          "data": {
            "text/plain": [
              "<Axes: >"
            ]
          },
          "metadata": {},
          "execution_count": 12
        },
        {
          "output_type": "display_data",
          "data": {
            "text/plain": [
              "<Figure size 640x480 with 1 Axes>"
            ],
            "image/png": "[encoded data removed]"
          },
          "metadata": {}
        }
      ]
    },
    {
      "cell_type": "markdown",
      "source": [
        "6)Ποιά είναι τα 5 πιο συχνά αίτια που προκαλούν ατυχήματα?"
      ],
      "metadata": {
        "id": "cUzCF_PgWS4P"
      },
      "id": "cUzCF_PgWS4P"
    },
    {
      "cell_type": "code",
      "source": [
        "accidents.value_counts('SourceTitle').head(5).plot(kind='barh', color=['lightgreen', 'turquoise', 'pink', 'orange', 'yellow'])"
      ],
      "metadata": {
        "colab": {
          "base_uri": "https://localhost:8080/",
          "height": 447
        },
        "id": "z5tomuDrWTFR",
        "outputId": "ef74d706-cea2-4022-8d5f-4caba5c54d7d"
      },
      "id": "z5tomuDrWTFR",
      "execution_count": null,
      "outputs": [
        {
          "output_type": "execute_result",
          "data": {
            "text/plain": [
              "<Axes: ylabel='SourceTitle'>"
            ]
          },
          "metadata": {},
          "execution_count": 37
        },
        {
          "output_type": "display_data",
          "data": {
            "text/plain": [
              "<Figure size 640x480 with 1 Axes>"
            ],
            "image/png": "[encoded data removed]"
          },
          "metadata": {}
        }
      ]
    },
    {
      "cell_type": "markdown",
      "source": [
        "7)Ποιό μέλος του σώματος τραυματίζεται κυρίως?"
      ],
      "metadata": {
        "id": "LFD2OvP8crlY"
      },
      "id": "LFD2OvP8crlY"
    },
    {
      "cell_type": "code",
      "source": [
        "accidents.value_counts('Part of Body Title').head(1)"
      ],
      "metadata": {
        "colab": {
          "base_uri": "https://localhost:8080/"
        },
        "id": "Zcy1pCdocwEN",
        "outputId": "3817323b-3583-4f9e-9fe8-3e1d5a73c1ea"
      },
      "id": "Zcy1pCdocwEN",
      "execution_count": null,
      "outputs": [
        {
          "output_type": "execute_result",
          "data": {
            "text/plain": [
              "Part of Body Title\n",
              "Fingertip(s)    8845\n",
              "dtype: int64"
            ]
          },
          "metadata": {},
          "execution_count": 16
        }
      ]
    },
    {
      "cell_type": "markdown",
      "source": [
        "8)Ποιές είναι οι 5 βασικές πόλεις από τις οποίες προέρχονται οι τραυματίες?"
      ],
      "metadata": {
        "id": "LoIKIOKsdVU4"
      },
      "id": "LoIKIOKsdVU4"
    },
    {
      "cell_type": "code",
      "source": [
        "accidents.value_counts('City').head(5).plot(kind='barh', color=['purple', 'red', 'pink', 'turquoise', 'lightgreen'])"
      ],
      "metadata": {
        "colab": {
          "base_uri": "https://localhost:8080/",
          "height": 447
        },
        "id": "V2VI_PNcdV8P",
        "outputId": "f9e93d83-e249-4ca4-901b-74e23b7eb38a"
      },
      "id": "V2VI_PNcdV8P",
      "execution_count": null,
      "outputs": [
        {
          "output_type": "execute_result",
          "data": {
            "text/plain": [
              "<Axes: ylabel='City'>"
            ]
          },
          "metadata": {},
          "execution_count": 36
        },
        {
          "output_type": "display_data",
          "data": {
            "text/plain": [
              "<Figure size 640x480 with 1 Axes>"
            ],
            "image/png": "[encoded data removed]"
          },
          "metadata": {}
        }
      ]
    },
    {
      "cell_type": "markdown",
      "source": [
        "9)Πόσοι οδηγήθηκαν την κάθε ημέρα στο νοσοκομείο?"
      ],
      "metadata": {
        "id": "QYMFCBuqgsgW"
      },
      "id": "QYMFCBuqgsgW"
    },
    {
      "cell_type": "code",
      "source": [
        "accidents.groupby('EventDate')['Hospitalized'].count().sort_values(ascending=False)"
      ],
      "metadata": {
        "colab": {
          "base_uri": "https://localhost:8080/"
        },
        "id": "bWkINXzTiIIn",
        "outputId": "753e88c0-8390-4a4d-a07f-40799dee72b4"
      },
      "id": "bWkINXzTiIIn",
      "execution_count": null,
      "outputs": [
        {
          "output_type": "execute_result",
          "data": {
            "text/plain": [
              "EventDate\n",
              "7/10/2019     68\n",
              "8/28/2018     61\n",
              "8/19/2019     59\n",
              "9/16/2019     58\n",
              "7/10/2018     58\n",
              "              ..\n",
              "12/25/2018     3\n",
              "1/2/2022       2\n",
              "4/12/2020      2\n",
              "11/26/2015     2\n",
              "12/25/2015     2\n",
              "Name: Hospitalized, Length: 2736, dtype: int64"
            ]
          },
          "metadata": {},
          "execution_count": 20
        }
      ]
    },
    {
      "cell_type": "markdown",
      "source": [
        "10)Ποιός είναι ο μέσος όρος των ατυχημάτων ανά έτος?"
      ],
      "metadata": {
        "id": "ttqYcOhWic7p"
      },
      "id": "ttqYcOhWic7p"
    },
    {
      "cell_type": "code",
      "source": [
        "Year= [2015, 2016, 2017.2018,2019,2020,2021,2022]\n",
        "file_list = []\n",
        "for Year in Year:\n",
        "    accidents =  pd.read_csv(\"/content/drive/MyDrive/severe_injury.zip\", encoding=\"latin-1\")\n",
        "    accidents[\"Year\"] = Year\n",
        "    file_list.append(accidents)\n",
        "accidents.groupby('EventDate')['Year'].mean()"
      ],
      "metadata": {
        "id": "Tc0xbcyiidmv",
        "colab": {
          "base_uri": "https://localhost:8080/"
        },
        "outputId": "105f11dd-9713-4929-b508-44e0d8b6ee4a"
      },
      "id": "Tc0xbcyiidmv",
      "execution_count": null,
      "outputs": [
        {
          "output_type": "execute_result",
          "data": {
            "text/plain": [
              "EventDate\n",
              "1/1/2015    2022.0\n",
              "1/1/2016    2022.0\n",
              "1/1/2017    2022.0\n",
              "1/1/2018    2022.0\n",
              "1/1/2019    2022.0\n",
              "             ...  \n",
              "9/9/2017    2022.0\n",
              "9/9/2018    2022.0\n",
              "9/9/2019    2022.0\n",
              "9/9/2020    2022.0\n",
              "9/9/2021    2022.0\n",
              "Name: Year, Length: 2736, dtype: float64"
            ]
          },
          "metadata": {},
          "execution_count": 6
        }
      ]
    }
  ],
  "metadata": {
    "kernelspec": {
      "display_name": "Python 3",
      "language": "python",
      "name": "python3"
    },
    "language_info": {
      "codemirror_mode": {
        "name": "ipython",
        "version": 3
      },
      "file_extension": ".py",
      "mimetype": "text/x-python",
      "name": "python",
      "nbconvert_exporter": "python",
      "pygments_lexer": "ipython3",
      "version": "3.9.2"
    },
    "colab": {
      "provenance": [],
      "include_colab_link": true
    }
  },
  "nbformat": 4,
  "nbformat_minor": 5
}