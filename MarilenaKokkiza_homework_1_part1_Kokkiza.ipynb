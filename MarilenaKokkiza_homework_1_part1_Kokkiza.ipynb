{
  "cells": [
    {
      "cell_type": "markdown",
      "metadata": {
        "id": "view-in-github",
        "colab_type": "text"
      },
      "source": [
        "<a href=\"https://colab.research.google.com/github/marilena238/datastories_for_emme/blob/main/MarilenaKokkiza_homework_1_part1_Kokkiza.ipynb\" target=\"_parent\"><img src=\"https://colab.research.google.com/assets/colab-badge.svg\" alt=\"Open In Colab\"/></a>"
      ]
    },
    {
      "cell_type": "code",
      "execution_count": null,
      "metadata": {
        "id": "nX5cjpm7TCiw"
      },
      "outputs": [],
      "source": []
    },
    {
      "cell_type": "code",
      "source": [
        "from google.colab import drive\n",
        "drive.mount('/content/drive')"
      ],
      "metadata": {
        "colab": {
          "base_uri": "https://localhost:8080/"
        },
        "id": "uZf7ORmkTN1L",
        "outputId": "810e1382-62f6-4372-95e7-65f66cb46c41"
      },
      "execution_count": null,
      "outputs": [
        {
          "output_type": "stream",
          "name": "stdout",
          "text": [
            "Mounted at /content/drive\n"
          ]
        }
      ]
    },
    {
      "cell_type": "markdown",
      "metadata": {
        "collapsed": true,
        "id": "3zi25Vc9TCiy"
      },
      "source": [
        "##  Εβδομάδα 1 - Εισαγωγή στην Python\n",
        "\n",
        "**Θεωρία**\n",
        "\n",
        "Η **Python** είναι γλώσσα προγραμματισμού υψηλού επιπέδου, ανοικτού πηγαίου κώδικα (open source) και γενικής χρήσης. Είναι\n",
        "εύκολη στην εκμάθηση (απλούστερη από τις C, C++, Java) και παρέχει ισχυρές δυνατότητες σε αρχάριους και έμπειρους προγραμματιστές.\n",
        "\n",
        "\n",
        "**Τιμές και τύποι**\n",
        "\n",
        "Η έννοια της τιμής αναφέρεται σε μεταβλητές αλλά και σε σταθερές τιμές. Επίσης, τιμές μπορεί να είναι οι αριθμοί αλλά και οι αριθμητικές εκφράσεις, όπως αν γράψετε 1+1. Ωστόσο, τιμή είναι και η έκφραση ‘hello world’. \n",
        "\n",
        "Κάθε τιμή ανήκει σε κάποιον τύπο (ακέραιοι αριθμοί, ομάδες χαρακτήρων ή strings, κλπ.). Η ομάδα χαρακτήρων είναι ένας από τους θεμελιώδεις τύπους της Python και σταθερές του τύπου ομάδα χαρακτήρων (ή συμβολοσειρά) τις οποίες περικλείουμε με εισαγωγικά (μονά (‘) ή διπλά (‘‘)) αρχής και τέλους. \n",
        "\n",
        "Η εντολή εκτύπωσης δουλεύει, βεβαίως, με ακέραιους αριθμούς και με πολλούς άλλους τύπους, όπως θα δούμε αργότερα.\n",
        "Με τον όρο κυριολεκτικές σταθερές (literal constants) αναφερόμαστε σε προκαθορισμένες τιμές που παραμένουν αμετάβλητες σε όλη τη διάρκεια εκτέλεσης ενός προγράμματος.\n",
        "\n",
        "Παραδείγματα τιμών:\n",
        "• 3,\n",
        "• 2.5,\n",
        "• ‘Hello, World!’\n",
        "\n",
        "Αυτές οι τιμές ανήκουν σε διαφορετικούς τύπους (types):\n",
        "\n",
        "• 3 είναι ένας ακέραιος αριθμός (integer).\n",
        "\n",
        "• 2.5 είναι ένας αριθμός κινητής υποδιαστολής (float).\n",
        "\n",
        "• ‘Hello, World!’ είναι μια συμβολοσειρά (string). Πρόκειται για μια ακολουθία από χαρακτήρες οι οποίοι περικλείονται σε μονά ή διπλά εισαγωγικά.\n",
        "\n",
        "• Εκτύπωση με χρήση της εντολής print."
      ]
    },
    {
      "cell_type": "code",
      "execution_count": null,
      "metadata": {
        "id": "wX6CpcD5TCi4",
        "outputId": "af5de283-7c03-493e-9f76-a2edd50ba1cd"
      },
      "outputs": [
        {
          "data": {
            "text/plain": [
              "13399"
            ]
          },
          "execution_count": 6,
          "metadata": {},
          "output_type": "execute_result"
        }
      ],
      "source": [
        "a = 12344\n",
        "c = 55\n",
        "d = 1000\n",
        "a + c + d"
      ]
    },
    {
      "cell_type": "code",
      "execution_count": null,
      "metadata": {
        "id": "MAsdrlYPTCi6",
        "outputId": "08e94eee-2443-406c-b7c3-75d5488c91a5"
      },
      "outputs": [
        {
          "name": "stdout",
          "output_type": "stream",
          "text": [
            "Kostas Mourlas\n"
          ]
        }
      ],
      "source": [
        "b =\"Kostas Mourlas\"\n",
        "print(b)"
      ]
    },
    {
      "cell_type": "code",
      "execution_count": null,
      "metadata": {
        "id": "WMSVA2bjTCi7",
        "outputId": "1901edc8-de9f-4faf-a150-2cd060bcf02f",
        "colab": {
          "base_uri": "https://localhost:8080/",
          "height": 200
        }
      },
      "outputs": [
        {
          "output_type": "error",
          "ename": "NameError",
          "evalue": "ignored",
          "traceback": [
            "\u001b[0;31m---------------------------------------------------------------------------\u001b[0m",
            "\u001b[0;31mNameError\u001b[0m                                 Traceback (most recent call last)",
            "\u001b[0;32m<ipython-input-4-0c1803af22c7>\u001b[0m in \u001b[0;36m<module>\u001b[0;34m\u001b[0m\n\u001b[1;32m      2\u001b[0m \u001b[0ma\u001b[0m \u001b[0;34m=\u001b[0m \u001b[0;34m\"Costas\"\u001b[0m\u001b[0;34m\u001b[0m\u001b[0;34m\u001b[0m\u001b[0m\n\u001b[1;32m      3\u001b[0m \u001b[0mb\u001b[0m \u001b[0;34m=\u001b[0m \u001b[0;34m\"Mourlas\"\u001b[0m\u001b[0;34m\u001b[0m\u001b[0;34m\u001b[0m\u001b[0m\n\u001b[0;32m----> 4\u001b[0;31m \u001b[0ma\u001b[0m \u001b[0;34m+\u001b[0m \u001b[0;34m\" \"\u001b[0m \u001b[0;34m+\u001b[0m \u001b[0mb\u001b[0m \u001b[0;34m+\u001b[0m \u001b[0;34m\" \"\u001b[0m \u001b[0;34m+\u001b[0m \u001b[0mstr\u001b[0m\u001b[0;34m(\u001b[0m\u001b[0md\u001b[0m\u001b[0;34m)\u001b[0m\u001b[0;34m\u001b[0m\u001b[0;34m\u001b[0m\u001b[0m\n\u001b[0m",
            "\u001b[0;31mNameError\u001b[0m: name 'd' is not defined"
          ]
        }
      ],
      "source": [
        "a = 17\n",
        "a = \"Costas\"\n",
        "b = \"Mourlas\"\n",
        "a + \" \" + b + \" \" + str(d)"
      ]
    },
    {
      "cell_type": "markdown",
      "metadata": {
        "id": "MUfqRlPyTCi8"
      },
      "source": [
        "Τύπος `int`  ακέραιοι αριθμοί\n",
        "\n",
        "Τύπος `float`  αριθμοί κινητής υποδιαστολής (δεκαδικοί αριθμοί)\n",
        "\n",
        "Τύπος `str`  συμβολοσειρές (ακολουθίες χαρακτήρων)"
      ]
    },
    {
      "cell_type": "code",
      "execution_count": null,
      "metadata": {
        "id": "AXuOTTEYTCi8",
        "outputId": "0db7a9b3-05c5-482a-81de-34f214918680"
      },
      "outputs": [
        {
          "name": "stdout",
          "output_type": "stream",
          "text": [
            "33\n",
            "33\n",
            "137\n",
            "0.75\n"
          ]
        }
      ],
      "source": [
        "# Συμβολοσειρές'str' \n",
        "print (str(3) + \"3\")\n",
        "# Μετατρέψτε το 3 σε STRING\n",
        "print (\"3\" + \"3\")\n",
        "# Μετατρέψτε το 3 σε INTEGER\n",
        "print(int(\"134\") + 3)\n",
        "print(3/4)"
      ]
    },
    {
      "cell_type": "code",
      "execution_count": null,
      "metadata": {
        "id": "lwHb-jhnTCi-",
        "outputId": "f5573863-52e4-46d7-bd59-c92dfef65659"
      },
      "outputs": [
        {
          "data": {
            "text/plain": [
              "1313233"
            ]
          },
          "execution_count": 102,
          "metadata": {},
          "output_type": "execute_result"
        }
      ],
      "source": [
        "v =\"1313233\"\n",
        "int(v)"
      ]
    },
    {
      "cell_type": "markdown",
      "metadata": {
        "id": "6Ig9E7mtTCi-"
      },
      "source": [
        "## Μεταβλητές"
      ]
    },
    {
      "cell_type": "markdown",
      "metadata": {
        "id": "u2og8TiiTCi_"
      },
      "source": [
        "Τώρα, λοιπόν, γνωρίζουμε ότι έχουμε σταθερές τιμές, αλλά έχουμε και μεταβλητές\n",
        "τιμές. Από τα πιο δυνατά χαρακτηριστικά μιας γλώσσας προγραμματισμού είναι\n",
        "η δυνατότητα διαχείρισης μεταβλητών. Η **μεταβλητή (variable)** είναι ένα όνομα\n",
        "που αναφέρεται σε μια τιμή."
      ]
    },
    {
      "cell_type": "markdown",
      "metadata": {
        "id": "s9fJ3EisTCjA"
      },
      "source": [
        "Τα ονόματα μεταβλητών μπορούν να περιέχουν αριθμούς και γράμματα, αλλά\n",
        "πρέπει να ξεκινούν με ένα γράμμα.\n",
        "\n",
        "Τα πεζά διακρίνονται από τα κεφαλαία:\n",
        "    \n",
        "• **Course** και **course** είναι διαφορετικές μεταβλητές.\n",
        "\n",
        "• **myname** και **myName** είναι διαφορετικές μεταβλητές."
      ]
    },
    {
      "cell_type": "code",
      "execution_count": null,
      "metadata": {
        "id": "hnXXGvH0TCjB",
        "outputId": "f0cb8965-dc5b-4624-b639-3725250c84c3"
      },
      "outputs": [
        {
          "name": "stdout",
          "output_type": "stream",
          "text": [
            "Hello  Helen !!!\n"
          ]
        }
      ],
      "source": [
        "name= \"Helen\" \n",
        "print ('Hello ', name, \"!!!\")"
      ]
    },
    {
      "cell_type": "code",
      "execution_count": null,
      "metadata": {
        "id": "GLcq0Y9bTCjC"
      },
      "outputs": [],
      "source": [
        "age= input(\"Πόσο χρονών είσαι?\")\n",
        "print(5*age)\n",
        "hlikia = int(age)\n",
        "print(hlikia)\n",
        "print(2*hlikia)"
      ]
    },
    {
      "cell_type": "markdown",
      "metadata": {
        "id": "iei3z1itTCjC"
      },
      "source": [
        "Ως εδώ κάτι έχω καταλάβει....."
      ]
    },
    {
      "cell_type": "code",
      "execution_count": null,
      "metadata": {
        "id": "a6mvzn4rTCjD",
        "outputId": "8b751eed-594d-4a84-fdbb-38ad81cd2e17"
      },
      "outputs": [
        {
          "name": "stdout",
          "output_type": "stream",
          "text": [
            "Hello world\n",
            "Hello world\n",
            "4\n",
            "Hello world\n"
          ]
        }
      ],
      "source": [
        "age =55\n",
        "print('Hello world')\n",
        "print (\"Hello world\")\n",
        "print (2+2)\n",
        "print('Hello world')"
      ]
    },
    {
      "cell_type": "code",
      "execution_count": null,
      "metadata": {
        "id": "JXg4sIEHTCjD",
        "outputId": "b2258e78-20e4-499c-c43f-2718177de1d8"
      },
      "outputs": [
        {
          "name": "stdout",
          "output_type": "stream",
          "text": [
            "age 55\n",
            "205\n",
            "200 Helen Γεια σου\n"
          ]
        }
      ],
      "source": [
        "print(\"age\", age)\n",
        "arithos  = 5\n",
        "A = 200\n",
        "print(arithos +A)\n",
        "print(A,name,\"Γεια σου\")"
      ]
    },
    {
      "cell_type": "markdown",
      "metadata": {
        "id": "HOmD6Tv0TCjE"
      },
      "source": [
        "## Πολλαπλές εκχωρήσεις\n",
        "Όπως ίσως θα έχετε διαπιστώσει, είναι νόμιμο να γίνουν παραπάνω από μία εκχωρήσεις σε μια μεταβλητή. \n",
        "\n",
        "Μια νέα εκχώρηση κάνει μια μεταβλητή να αναφέρεται σε μία **νέα τιμή** και να σταματήσει να αναφέρεται στην παλιά τιμή"
      ]
    },
    {
      "cell_type": "code",
      "execution_count": null,
      "metadata": {
        "id": "ms2AqYctTCjE",
        "outputId": "584be6ac-eb55-4554-c4b5-a614698931b6"
      },
      "outputs": [
        {
          "name": "stdout",
          "output_type": "stream",
          "text": [
            "1\n"
          ]
        }
      ],
      "source": [
        "value = 1\n",
        "print(value)"
      ]
    },
    {
      "cell_type": "code",
      "execution_count": null,
      "metadata": {
        "id": "kr3haaR4TCjF",
        "outputId": "6f686995-74cf-4dd2-9511-4d819a9165c8"
      },
      "outputs": [
        {
          "name": "stdout",
          "output_type": "stream",
          "text": [
            "2\n"
          ]
        }
      ],
      "source": [
        "value = 2\n",
        "print(value)"
      ]
    },
    {
      "cell_type": "markdown",
      "metadata": {
        "id": "ZHm7aB7jTCjF"
      },
      "source": [
        "## Υπό συνθήκη (Conditional)"
      ]
    },
    {
      "cell_type": "markdown",
      "metadata": {
        "id": "8jQz6t9TTCjG"
      },
      "source": [
        "## Εντολές\n",
        "\n",
        "Έχουμε δει, ήδη, δύο είδη εντολών: print (εκτύπωση) και assignment (εκχώρηση).\n",
        "\n",
        "Οι εντολές γενικότερα εκτελούνται από το διερμηνευτή της Python. Όταν γράφετε μια εντολή στη γραμμή εντολών (command line), ο διερμηνευτής την εκτελεί και δείχνει στην οθόνη το αποτέλεσμα, αν η εντολή είναι εντολή εξόδου. Στην περίπτωση του print είναι, ενώ στην περίπτωση της εκχώρησης δεν είναι. Ένα πρόγραμμα ή ένα σενάριο (script) όπως ονομάζεται στην Python, συνήθως περιέχει\n",
        "περισσότερες της μίας εντολές. "
      ]
    },
    {
      "cell_type": "code",
      "execution_count": null,
      "metadata": {
        "id": "lCstS4huTCjG",
        "outputId": "2de702bc-d6df-4fee-cae0-f864774dc989"
      },
      "outputs": [
        {
          "name": "stdout",
          "output_type": "stream",
          "text": [
            "Απαγορεύεται να αγοράσεις αλκοόλ\n",
            "Συγγνώμη\n"
          ]
        }
      ],
      "source": [
        "#Αν η μεταβλητή'age' είναι μικρότερη του 18,\n",
        "#τότε τύπωσε αυτό που πρέπει \n",
        "# Να προσέχω να βάζω : στο τέλος κάθε εντολής if\n",
        "\n",
        "if (hlikia < 18):\n",
        "    print(\"Απαγορεύεται να αγοράσεις αλκοόλ\")\n",
        "    print(\"Συγγνώμη\")\n",
        "else:\n",
        "    print (\"Αγόρασε σε παρακαλώ 20 μπύρες\")\n",
        "    print ( \"Θα σε πληρώσω αργότερα\")\n",
        "    print(\"Ας κάνουμε ένα πάρτυ!\")"
      ]
    },
    {
      "cell_type": "markdown",
      "metadata": {
        "id": "ZYgsTknOTCjH"
      },
      "source": [
        "Στο παρακάτω παράδειγμα στο οποίο ελέγχουμε για ισότητα της μεταβλητής x με το 2 (η σύγκριση για ισότητα εκφράζεται με δύο ίσον (==)\n",
        "σε αντίθεση με την εκχώρηση (=)). \n",
        "\n",
        "Αν το 3 είναι ίσον με το 2, ακολουθεί η άνω-κάτω-τελεία (:), που σημαίνει ότι τελείωσε το κομμάτι της συνθήκης και τώρα πάμε να εκτελέσουμε αν ισχύει η συνθήκη. \n",
        "\n",
        "Αν το 3 ήταν ίσο με 2, που δεν είναι, τότε θα εκτυπώναμε την τιμή του x, διαφορετικά (κάτι που ισχύει εδώ) το x παίρνει την τιμή 3 και μετά τυπώνουμε το x."
      ]
    },
    {
      "cell_type": "code",
      "execution_count": null,
      "metadata": {
        "id": "t3PIFCgFTCjI",
        "outputId": "e34b89a2-6e3c-43a4-d52b-e8e9c61b638c"
      },
      "outputs": [
        {
          "name": "stdout",
          "output_type": "stream",
          "text": [
            "To x δεν είναι 3\n"
          ]
        }
      ],
      "source": [
        "x = 4\n",
        "\n",
        "if x == 3:\n",
        "    print(x)\n",
        "else:\n",
        "    print(\"To x δεν είναι 3\")\n",
        "    x = 3\n",
        "    \n",
        "#print(x)"
      ]
    },
    {
      "cell_type": "code",
      "execution_count": null,
      "metadata": {
        "id": "746XEsgVTCjI",
        "outputId": "0d3a660f-3e12-4e72-9b84-ad37ef191212"
      },
      "outputs": [
        {
          "data": {
            "text/plain": [
              "3"
            ]
          },
          "execution_count": 46,
          "metadata": {},
          "output_type": "execute_result"
        }
      ],
      "source": [
        "x"
      ]
    },
    {
      "cell_type": "markdown",
      "metadata": {
        "id": "9bGTaRCdTCjJ"
      },
      "source": [
        "## Λάθη\n",
        "\n",
        "Αν κάνουμε κάποιο συντακτικό λάθος (π.χ. παραλείψουμε το :) η λειτουργία check module («έλεγξε το πρόγραμμα») θα μας πει ότι δεν είναι σωστή η σύνταξη και θα κοκκινίσει το μέρος όπου βλέπει κάποιο λάθος. \n",
        "Έτσι θα το διορθώσουμε, θα το ξανατρέξουμε και εφόσον δεν υπάρχει συντακτικό λάθος στο πρόγραμμα,θα τυπώσει 3, όπως αναμένουμε.\n",
        "\n",
        "\n",
        "Αν υποθέσουμε ότι για κάποιο λόγο είχαμε βάλει print y, το οποίο δεν είναι ορισμένο, αυτό δεν είναι συντακτικό λάθος.\n",
        "\n"
      ]
    },
    {
      "cell_type": "code",
      "execution_count": null,
      "metadata": {
        "id": "Kv3fNoGdTCjJ",
        "outputId": "db40e4bd-cb75-44d3-f0c2-6d0e9d10abe1"
      },
      "outputs": [
        {
          "name": "stdout",
          "output_type": "stream",
          "text": [
            "3\n"
          ]
        }
      ],
      "source": [
        "x = 3\n",
        "y = 0\n",
        "if y == 3:\n",
        "    print(y)\n",
        "else:\n",
        "    y = 3\n",
        "    \n",
        "print(y)"
      ]
    },
    {
      "cell_type": "markdown",
      "metadata": {
        "id": "UJh_TpZYTCjJ"
      },
      "source": [
        "Οι μεταβλητές δηλώνονται την πρώτη φορά που τις χρησιμοποιούμε. Αλλά αν προσπαθήσουμε να το τρέξουμε, τότε βλέπετε ότι έχουμε το λεγόμενο run time error, λάθος κατά το χρόνο εκτέλεσης γιατί, προφανώς, δεν ήταν ορισμένο, επομένως δεν μπορεί να τυπωθεί κάτι, αφού δεν ξέρει την τιμή.\n",
        "\n",
        "Είδαμε, λοιπόν, δύο διαφορετικές πολύ μεγάλες κατηγορίες λαθών, τα πρώτα, σχετικά πιο εύκολα, τα λεγόμενα συντακτικά λάθη, δηλαδή, στη σύνταξη της γλώσσας και τα άλλα πιο δύσκολα να αντιληφθεί κανείς, τα λεγόμενα λάθη εκτέλεσης, run time error. \n",
        "\n",
        "Είναι πολύ σημαντικό να γίνει κατανοητή αυτή η σημαντική διαφορά μεταξύ αυτών των δύο κατηγοριών λαθών."
      ]
    },
    {
      "cell_type": "markdown",
      "metadata": {
        "id": "JEynQhHWTCjK"
      },
      "source": [
        "## Συμβολοσειρές, λίστες, λεξικά, μέθοδοι\n",
        "\n",
        "**Θεωρία**\n",
        "\n",
        "Σήμερα θα δούμε επίσης, τις βασικές δομές δεδομένων, όπως οι συμβολοσειρές (strings), οι λίστες (lists), οι πλειάδες (tuples)\n",
        "και τα λεξικά (dictionaries), καθώς και της διαχείρισής τους."
      ]
    },
    {
      "cell_type": "markdown",
      "metadata": {
        "id": "wOEWK_AaTCjK"
      },
      "source": [
        "**Συμβολοσειρές**\n",
        "\n",
        "\n",
        "Μια συμβολοσειρά είναι μια ακολουθία από χαρακτήρες. Οι συμβολοσειρές ανήκουν στον τύπο δεδομένων `str`. Μπορείτε να ορίσετε συμβολοσειρές με μονά (‘) ή διπλά (‘‘) εισαγωγικά:"
      ]
    },
    {
      "cell_type": "code",
      "execution_count": null,
      "metadata": {
        "id": "KiqPOIUCTCjK",
        "outputId": "54e65e40-5606-4372-952c-d721fe6ed35b"
      },
      "outputs": [
        {
          "data": {
            "text/plain": [
              "'Vasilis'"
            ]
          },
          "execution_count": 49,
          "metadata": {},
          "output_type": "execute_result"
        }
      ],
      "source": [
        "name = 'Vasilis'\n",
        "name"
      ]
    },
    {
      "cell_type": "code",
      "execution_count": null,
      "metadata": {
        "id": "4fJdTaEyTCjK",
        "outputId": "a6765af4-2741-47bc-f856-2d33722fa6f6"
      },
      "outputs": [
        {
          "data": {
            "text/plain": [
              "'Vasilis'"
            ]
          },
          "execution_count": 50,
          "metadata": {},
          "output_type": "execute_result"
        }
      ],
      "source": [
        "name = \"Vasilis\"\n",
        "name"
      ]
    },
    {
      "cell_type": "markdown",
      "metadata": {
        "id": "3KZ9gf5nTCjL"
      },
      "source": [
        "Τα μονά εισαγωγικά (‘) μπορείτε να τα χρησιμοποιείτε ελεύθερα μέσα σε διπλά εισαγωγικά (‘‘)"
      ]
    },
    {
      "cell_type": "code",
      "execution_count": null,
      "metadata": {
        "id": "S3UK4MwKTCjL",
        "outputId": "0c022bd8-44ae-4096-aa23-9852000dc687"
      },
      "outputs": [
        {
          "name": "stdout",
          "output_type": "stream",
          "text": [
            "Let's party!\n"
          ]
        }
      ],
      "source": [
        "print(\"Let's party!\")"
      ]
    },
    {
      "cell_type": "code",
      "execution_count": null,
      "metadata": {
        "id": "Nsa7-KszTCjL",
        "outputId": "a33467ca-1bbf-4e14-fae1-0195d530e3f8"
      },
      "outputs": [
        {
          "name": "stdout",
          "output_type": "stream",
          "text": [
            "Μπορείτε να ορίσετε συμβολοσειρές πολλαπλών γραμμών με τριπλά εισαγωγικά (τρία διπλά ‘‘‘‘‘‘ ή τρία μονά ‘‘‘).  \n",
            "Βλέπετε ότι με τα τριπλά εισαγωγικά μπορούμε να αλλάξουμε και γραμμή, \n",
            "χωρίς να χρειάζεται να βάλουμε την ακολουθία διαφυγής\n"
          ]
        }
      ],
      "source": [
        "c = '''Μπορείτε να ορίσετε συμβολοσειρές πολλαπλών γραμμών με τριπλά εισαγωγικά (τρία διπλά ‘‘‘‘‘‘ ή τρία μονά ‘‘‘).  \n",
        "Βλέπετε ότι με τα τριπλά εισαγωγικά μπορούμε να αλλάξουμε και γραμμή, \n",
        "χωρίς να χρειάζεται να βάλουμε την ακολουθία διαφυγής'''\n",
        "\n",
        "print(c)"
      ]
    },
    {
      "cell_type": "markdown",
      "metadata": {
        "id": "CPBJ9JInTCjM"
      },
      "source": [
        "## Λίστες\n",
        "\n",
        "Η λίστα είναι ο δεύτερος σύνθετος τύπος (μετά τις συμβολοσειρές) στον οποίο αναφερόμαστε στην Python. Οι λίστες (`lists`), δηλώνουν πράγματα καθώς και διατεταγμένα σύνολα τιμών. Οι τιμές (μέλη μιας λίστας) λέγονται στοιχεία (`elements`).\n",
        "\n",
        "Ο όρος «διατεταγμένα» σημαίνει ότι μπορούμε να ορίσουμε ότι αυτό είναι το πρώτο, αυτό είναι δεύτερο, αυτό τρίτο κλπ. Οι λίστες είναι παρόμοιες με τις συμβολοσειρές, οι οποίες είναι διατεταγμένα σύνολα χαρακτήρων, ωστόσο τα στοιχεία μιας λίστας μπορεί να είναι οποιουδήποτε τύπου. \n",
        "\n",
        "Μπορεί να είναι νούμερα, ακέραιοι, πραγματικοί, μπορεί να είναι άλλες λίστες. Μπορεί να περιέχουν στοιχεία οποιουδήποτε τύπου της Python και όλα αυτά να τα βάζουμε μαζί γιατί πιστεύουμε ότι πρέπει να είναι μαζί. "
      ]
    },
    {
      "cell_type": "markdown",
      "metadata": {
        "id": "PKmJy8MsTCjM"
      },
      "source": [
        "Ο απλούστερος τρόπος να δημιουργήσει κανείς μια λίστα, είναι να βάλει τα στοιχεία της μέσα σε [ ]. "
      ]
    },
    {
      "cell_type": "code",
      "execution_count": null,
      "metadata": {
        "id": "_3j4ETzpTCjM"
      },
      "outputs": [],
      "source": [
        "L = [\"Dimitris\", \"Sotiris\", \"Katerina\", \"Christos\", \"Eleni\"]"
      ]
    },
    {
      "cell_type": "code",
      "execution_count": null,
      "metadata": {
        "id": "-qFiCjW3TCjN"
      },
      "outputs": [],
      "source": [
        "grades = [5, 6,7,8,3]"
      ]
    },
    {
      "cell_type": "code",
      "execution_count": null,
      "metadata": {
        "id": "qnF3w4aKTCjN",
        "outputId": "871f27f8-07c3-4bb4-907d-4746551dfe12"
      },
      "outputs": [
        {
          "name": "stdout",
          "output_type": "stream",
          "text": [
            "Dimitris\n",
            "Sotiris\n",
            "Katerina\n",
            "Christos\n",
            "Eleni\n",
            "5\n",
            "6\n",
            "7\n",
            "8\n",
            "3\n"
          ]
        }
      ],
      "source": [
        "for name in L:\n",
        "    print(name)\n",
        "\n",
        "for grade in grades:\n",
        "    print(grade)"
      ]
    },
    {
      "cell_type": "code",
      "execution_count": null,
      "metadata": {
        "id": "yPn2NHarTCjN",
        "outputId": "c283c581-9f71-4a39-9af3-9f4e3fa68d1e"
      },
      "outputs": [
        {
          "name": "stdout",
          "output_type": "stream",
          "text": [
            "O  Dimitris  πήρε βαθμό:  5\n",
            "O  Sotiris  πήρε βαθμό:  6\n",
            "H  Katerina  πήρε βαθμό:  7\n",
            "O  Christos  πήρε βαθμό:  8\n",
            "H  Eleni  πήρε βαθμό:  3\n"
          ]
        }
      ],
      "source": [
        "suffix =\"s\"\n",
        "for i in range(0,5):\n",
        "    if (L[i].endswith(suffix)):\n",
        "        print(\"O \", L[i], \" πήρε βαθμό: \", grades[i])\n",
        "    else:\n",
        "        print(\"H \", L[i], \" πήρε βαθμό: \", grades[i])\n",
        "        "
      ]
    },
    {
      "cell_type": "code",
      "execution_count": null,
      "metadata": {
        "id": "JRR7gLNlTCjN",
        "outputId": "e3103897-c42d-43fa-cba8-c65541cfeead"
      },
      "outputs": [
        {
          "data": {
            "text/plain": [
              "True"
            ]
          },
          "execution_count": 83,
          "metadata": {},
          "output_type": "execute_result"
        }
      ],
      "source": [
        "\n",
        "x = \"Sotiris\"\n",
        "x[-1:] == 's'"
      ]
    },
    {
      "cell_type": "code",
      "execution_count": null,
      "metadata": {
        "id": "6MIhrKzPTCjO",
        "outputId": "fa4193cb-3dfc-451b-9ac7-152ae3afb39f"
      },
      "outputs": [
        {
          "data": {
            "text/plain": [
              "'Dimitris'"
            ]
          },
          "execution_count": 55,
          "metadata": {},
          "output_type": "execute_result"
        }
      ],
      "source": [
        "L[0]"
      ]
    },
    {
      "cell_type": "code",
      "execution_count": null,
      "metadata": {
        "id": "E3Y_TbU2TCjO",
        "outputId": "79eef2cb-0dce-4f65-89ac-1eb1880e6103"
      },
      "outputs": [
        {
          "name": "stdout",
          "output_type": "stream",
          "text": [
            "Dimitris\n"
          ]
        }
      ],
      "source": [
        "print(L[0])"
      ]
    },
    {
      "cell_type": "code",
      "execution_count": null,
      "metadata": {
        "id": "bxulO_f0TCjO",
        "outputId": "aba2b8c2-9cd4-4e5f-b902-26ccecacc75c"
      },
      "outputs": [
        {
          "name": "stdout",
          "output_type": "stream",
          "text": [
            "Sotiris\n"
          ]
        }
      ],
      "source": [
        "print(L[1])"
      ]
    },
    {
      "cell_type": "code",
      "execution_count": null,
      "metadata": {
        "id": "8qyyZfdpTCjP",
        "outputId": "9cf16b2c-6229-4288-e3d9-6af7a81ea1a7"
      },
      "outputs": [
        {
          "name": "stdout",
          "output_type": "stream",
          "text": [
            "Katerina\n"
          ]
        }
      ],
      "source": [
        "print(L[2])"
      ]
    },
    {
      "cell_type": "markdown",
      "metadata": {
        "id": "GYX1GAbGTCjP"
      },
      "source": [
        "## Λειτουργίες & Μέθοδοι"
      ]
    },
    {
      "cell_type": "markdown",
      "metadata": {
        "id": "SnGbh1ZZTCjP"
      },
      "source": [
        "## Μήκος λίστας\n",
        "Όπως είχαμε δει και με τις συμβολοσειρές, έτσι και στις λίστες έχουμε μια συνάρτηση len, η οποία επιστρέφει το μήκος μιας λίστας. "
      ]
    },
    {
      "cell_type": "code",
      "execution_count": null,
      "metadata": {
        "id": "AcdBnFq5TCjP"
      },
      "outputs": [],
      "source": [
        "M = [1,3,4,5,5,6,6,6,77,87,8,88,8,8,88,8,8,8,8,88,8]"
      ]
    },
    {
      "cell_type": "code",
      "execution_count": null,
      "metadata": {
        "id": "oeEMBaJwTCjQ",
        "outputId": "93948f81-ee88-4f94-f10b-0caaf73d5fae"
      },
      "outputs": [
        {
          "data": {
            "text/plain": [
              "21"
            ]
          },
          "execution_count": 60,
          "metadata": {},
          "output_type": "execute_result"
        }
      ],
      "source": [
        "len(M)"
      ]
    },
    {
      "cell_type": "code",
      "execution_count": null,
      "metadata": {
        "id": "WnN-K4M9TCjQ",
        "outputId": "59ea2f3b-8231-4a5d-947b-667b6af80761"
      },
      "outputs": [
        {
          "data": {
            "text/plain": [
              "528"
            ]
          },
          "execution_count": 61,
          "metadata": {},
          "output_type": "execute_result"
        }
      ],
      "source": [
        "sum(M)"
      ]
    },
    {
      "cell_type": "markdown",
      "metadata": {
        "id": "NMai9Ye8TCjQ"
      },
      "source": [
        "**Φέτες από λίστες**\n",
        "\n",
        "Όπως και στις συμβολοσειρές, ο τελεστής φέτας (`slice`) δουλεύει επίσης και με τις λίστες. "
      ]
    },
    {
      "cell_type": "code",
      "execution_count": null,
      "metadata": {
        "id": "ay1d3YDITCjQ",
        "outputId": "0b3cabbc-fb4e-4f91-ea45-af32304c8199"
      },
      "outputs": [
        {
          "data": {
            "text/plain": [
              "[4, 5, 5]"
            ]
          },
          "execution_count": 65,
          "metadata": {},
          "output_type": "execute_result"
        }
      ],
      "source": [
        "M[2:5]"
      ]
    },
    {
      "cell_type": "markdown",
      "metadata": {
        "id": "5JmjxqPQTCjR"
      },
      "source": [
        "**Έλεγχος του “ανήκειν”**\n",
        "\n",
        "Ο `in` είναι λογικός τελεστής ο οποίος ελέγχει αν μια τιμή ανήκει σε μια λίστα (επιστρέφοντας true ή false) και δουλεύει όπως και στις συμβολοσειρές. \n",
        "Μπορούμε, επίσης, να χρησιμοποιήσουμε την έκφραση `not in`. "
      ]
    },
    {
      "cell_type": "code",
      "execution_count": null,
      "metadata": {
        "id": "CCwiBcS7TCjR"
      },
      "outputs": [],
      "source": [
        "for patates in L: \n",
        "    print(patates) \n",
        "\n",
        "\n",
        "\n",
        "len(L)"
      ]
    },
    {
      "cell_type": "markdown",
      "metadata": {
        "id": "4VDCRVBnTCjR"
      },
      "source": [
        "Η συνάρτηση `range` έχει ως ορίσματα δύο ακεραίους και επιστρέφει την ακολουθία των ακέραιων αριθμών στο διάστημα από το πρώτο έως \n",
        "το δεύτερό της όρισμα, συμπεριλαμβάνοντας το πρώτο όρισμα, αλλά αποκλείοντας το δεύτερο. "
      ]
    },
    {
      "cell_type": "code",
      "execution_count": null,
      "metadata": {
        "id": "btV98CtGTCjR"
      },
      "outputs": [],
      "source": [
        "for ntomates in range(0,len(L)):\n",
        "     print(ntomates, L[ntomates].upper())"
      ]
    },
    {
      "cell_type": "markdown",
      "metadata": {
        "id": "UXRulU5sTCjS"
      },
      "source": [
        "**Κεφαλαία**"
      ]
    },
    {
      "cell_type": "markdown",
      "metadata": {
        "id": "qb_8myYrTCjS"
      },
      "source": [
        "Μέθοδος για κεφαλαία συμβολοσειρά"
      ]
    },
    {
      "cell_type": "code",
      "execution_count": null,
      "metadata": {
        "id": "5Yoe2LwiTCjS"
      },
      "outputs": [],
      "source": [
        "\"Γεια σου\".upper()"
      ]
    },
    {
      "cell_type": "markdown",
      "metadata": {
        "id": "hrqboeOvTCjT"
      },
      "source": [
        "Λειτουργία για να βρούμε τον αριθμό των χαρακτήρων σε μια συμβολοσειρά"
      ]
    },
    {
      "cell_type": "code",
      "execution_count": null,
      "metadata": {
        "id": "RRb4jyAETCjT"
      },
      "outputs": [],
      "source": [
        "len(\"καλημέρα\") "
      ]
    },
    {
      "cell_type": "markdown",
      "metadata": {
        "id": "uig_1XHUTCjT"
      },
      "source": [
        "Λειτουργία για να ιεραρχήσουμε μια λίστα με αριθμούς "
      ]
    },
    {
      "cell_type": "code",
      "execution_count": null,
      "metadata": {
        "id": "WRFIHus7TCjT",
        "outputId": "7f71d41d-536c-4cfa-f795-341ab3b47f4f"
      },
      "outputs": [
        {
          "data": {
            "text/plain": [
              "[0, 1, 2, 3, 4, 5]"
            ]
          },
          "execution_count": 103,
          "metadata": {},
          "output_type": "execute_result"
        }
      ],
      "source": [
        "sorted([0, 5, 4, 2, 3, 1]) "
      ]
    },
    {
      "cell_type": "code",
      "execution_count": null,
      "metadata": {
        "id": "UA2OlpGxTCjU",
        "outputId": "3ebfb627-5fee-4c41-da1f-86044ca58af3"
      },
      "outputs": [
        {
          "data": {
            "text/plain": [
              "['Dimitris', 'Giannis', 'Kostas', 'Paris']"
            ]
          },
          "execution_count": 104,
          "metadata": {},
          "output_type": "execute_result"
        }
      ],
      "source": [
        "M = [\"Giannis\", \"Kostas\", \"Dimitris\", \"Paris\"]\n",
        "sorted(M)"
      ]
    },
    {
      "cell_type": "markdown",
      "metadata": {
        "id": "t7BVjJsLTCjU"
      },
      "source": [
        "Μέθοδος για αντικατάσταση κειμένου με κείμενο "
      ]
    },
    {
      "cell_type": "code",
      "execution_count": null,
      "metadata": {
        "id": "dGaWnJuuTCjU",
        "outputId": "03d47929-cd28-4b2f-8857-d8f6aab9d2e1"
      },
      "outputs": [
        {
          "data": {
            "text/plain": [
              "'_3_3_3'"
            ]
          },
          "execution_count": 105,
          "metadata": {},
          "output_type": "execute_result"
        }
      ],
      "source": [
        "\"123123123\".replace(\"12\", \"_\") "
      ]
    },
    {
      "cell_type": "code",
      "execution_count": null,
      "metadata": {
        "id": "sPS25V3cTCjU",
        "outputId": "6badec50-1a1c-49ff-a5ad-992a59ad682e"
      },
      "outputs": [
        {
          "data": {
            "text/plain": [
              "'Mirii'"
            ]
          },
          "execution_count": 106,
          "metadata": {},
          "output_type": "execute_result"
        }
      ],
      "source": [
        "\"Maria\".replace(\"a\",\"i\")"
      ]
    },
    {
      "cell_type": "markdown",
      "metadata": {
        "collapsed": true,
        "id": "_Qb-xnJNTCjV"
      },
      "source": [
        "Οι λειτουργίες δίνουν αποτέλεσμα έξω από τις μεταβλητές, ενώ οι μέθοδοι επηρεάζουν τις ίδιες τις μεταβλητές.\n",
        "\n",
        "Μην ξεχνάτε το σύμβολο () γιατί διαφορετικά οι λειτουργίες και οι μέθοδοί σας δεν θα δουλέψουν."
      ]
    },
    {
      "cell_type": "markdown",
      "metadata": {
        "id": "dpYC3M_qTCjV"
      },
      "source": [
        "# Λειτουργίες & Μέθοδοι για αριθμούς"
      ]
    },
    {
      "cell_type": "markdown",
      "metadata": {
        "id": "D4fSk7gsTCjV"
      },
      "source": [
        "**Στρογγυλοποίηση δεκαδικών**"
      ]
    },
    {
      "cell_type": "code",
      "execution_count": null,
      "metadata": {
        "id": "zgaeZpSBTCjV",
        "outputId": "20ac908e-446d-4d10-ed5c-aff9cf067ef5"
      },
      "outputs": [
        {
          "name": "stdout",
          "output_type": "stream",
          "text": [
            "1\n",
            "24\n",
            "7\n"
          ]
        }
      ],
      "source": [
        "L = [1.34546, 23.5666, 6.566646]\n",
        "for number in L:\n",
        "     print(round(number))"
      ]
    },
    {
      "cell_type": "markdown",
      "metadata": {
        "id": "otJZLXBJTCjW"
      },
      "source": [
        "Στρογγυλοποίηση προς τα πάνω και προς τα κάτω.\n",
        "\n",
        "Απαιτούνται εξωτερικές βιβλιοθήκες - κώδικας που έγραψε κάποιος άλλος και που.\n",
        "\n",
        "δεν συμπεριλαμβάνεται αυτόματα στην Python."
      ]
    },
    {
      "cell_type": "code",
      "execution_count": null,
      "metadata": {
        "id": "fDfbNsXITCjW",
        "outputId": "9baea9e6-908d-4e09-9886-ed27076f7c96"
      },
      "outputs": [
        {
          "name": "stdout",
          "output_type": "stream",
          "text": [
            "4\n",
            "3\n"
          ]
        }
      ],
      "source": [
        "import math\n",
        "print(math.ceil(3.14159))\n",
        "print(math.floor(3.14159))"
      ]
    },
    {
      "cell_type": "markdown",
      "metadata": {
        "id": "iTtPe2XpTCjW"
      },
      "source": [
        "# Συναρτήσεις & Μέθοδοι για συμβολοσειρές"
      ]
    },
    {
      "cell_type": "markdown",
      "metadata": {
        "id": "xutquSoDTCjX"
      },
      "source": [
        " Μάκρος συμβολοσειράς"
      ]
    },
    {
      "cell_type": "code",
      "execution_count": null,
      "metadata": {
        "id": "NVR8m3CmTCjX",
        "outputId": "8957fc1b-4976-4757-d6a7-5b2cdb698d78"
      },
      "outputs": [
        {
          "data": {
            "text/plain": [
              "10"
            ]
          },
          "execution_count": 112,
          "metadata": {},
          "output_type": "execute_result"
        }
      ],
      "source": [
        "len(\"yourstring\")"
      ]
    },
    {
      "cell_type": "code",
      "execution_count": null,
      "metadata": {
        "id": "VysWN-hGTCjX",
        "outputId": "ddc7712f-860e-41f6-f833-db69ae978b2d"
      },
      "outputs": [
        {
          "data": {
            "text/plain": [
              "4"
            ]
          },
          "execution_count": 114,
          "metadata": {},
          "output_type": "execute_result"
        }
      ],
      "source": [
        "len(M)"
      ]
    },
    {
      "cell_type": "markdown",
      "metadata": {
        "id": "Z1sm11yQTCjX"
      },
      "source": [
        "Αντικατάσταση περιεχομένου στη συμβολοσειρά"
      ]
    },
    {
      "cell_type": "code",
      "execution_count": null,
      "metadata": {
        "id": "GeugNkSzTCjY",
        "outputId": "ac651a42-1c73-4e30-e824-1ddc916b5054"
      },
      "outputs": [
        {
          "data": {
            "text/plain": [
              "'mystring'"
            ]
          },
          "execution_count": 115,
          "metadata": {},
          "output_type": "execute_result"
        }
      ],
      "source": [
        "\"yourstring\".replace(\"your\", \"my\")"
      ]
    },
    {
      "cell_type": "markdown",
      "metadata": {
        "id": "w8d9lJEkTCjY"
      },
      "source": [
        "Αλλαγή στους χαρακτήρες της συμβολοσειράς"
      ]
    },
    {
      "cell_type": "code",
      "execution_count": null,
      "metadata": {
        "id": "xTbD0IGGTCjY",
        "outputId": "f1ffb964-0871-45c9-a02c-00f5363be9b0"
      },
      "outputs": [
        {
          "data": {
            "text/plain": [
              "'yOUR sTRING'"
            ]
          },
          "execution_count": 117,
          "metadata": {},
          "output_type": "execute_result"
        }
      ],
      "source": [
        "#\"Your String\".upper()\n",
        "#\"Your String\".lower()\n",
        "#\"Your String\".title()\n",
        "\"Your String\".swapcase()"
      ]
    },
    {
      "cell_type": "markdown",
      "metadata": {
        "id": "aswjLcpfTCjY"
      },
      "source": [
        "Μέτρηση του αριθμού κάποιυ χαρακτήρα ή χαρακτήρων εντός συμβολοσειράς"
      ]
    },
    {
      "cell_type": "code",
      "execution_count": null,
      "metadata": {
        "id": "Axy8vjpwTCjZ",
        "outputId": "d586c265-7b04-478a-98d6-87d65724dd1d"
      },
      "outputs": [
        {
          "data": {
            "text/plain": [
              "1"
            ]
          },
          "execution_count": 119,
          "metadata": {},
          "output_type": "execute_result"
        }
      ],
      "source": [
        "\"Your String\".count(\"ur\")"
      ]
    },
    {
      "cell_type": "markdown",
      "metadata": {
        "id": "AkYw4XKBTCjZ"
      },
      "source": [
        "Έλεγχος για το εάν η συμβολοσειρά τελειώνει με κάτι συγκεκριμένο"
      ]
    },
    {
      "cell_type": "code",
      "execution_count": null,
      "metadata": {
        "id": "2RTe_KdPTCjZ",
        "outputId": "ad8ffab5-2f30-46d4-d4b6-def8f6a831ff"
      },
      "outputs": [
        {
          "data": {
            "text/plain": [
              "True"
            ]
          },
          "execution_count": 120,
          "metadata": {},
          "output_type": "execute_result"
        }
      ],
      "source": [
        "\"Your String\".endswith(\"ng\")"
      ]
    },
    {
      "cell_type": "markdown",
      "metadata": {
        "id": "FSdgmSGrTCjZ"
      },
      "source": [
        "Διαχωρισμός σε λίστα με βάση κάποιους χαρακτήρες "
      ]
    },
    {
      "cell_type": "code",
      "execution_count": null,
      "metadata": {
        "id": "ATUmAGaLTCjZ",
        "outputId": "cd8c082f-f3f7-482f-a7d6-049a2170b131"
      },
      "outputs": [
        {
          "data": {
            "text/plain": [
              "['MOURLAS', 'MEDIA', 'UOA', 'GR']"
            ]
          },
          "execution_count": 123,
          "metadata": {},
          "output_type": "execute_result"
        }
      ],
      "source": [
        "\"mourlas@media.uoa.gr\".replace(\"@\",'$').replace(\".\", \"$\").upper().split(\"$\")\n",
        "#\"Your String\".split(\" \")"
      ]
    },
    {
      "cell_type": "markdown",
      "metadata": {
        "id": "-hGEUkLeTCja"
      },
      "source": [
        "Ένωση λίστας μέσα σε συμβολοσειρά στη βάση κάποιων χαρακτήρων "
      ]
    },
    {
      "cell_type": "code",
      "execution_count": null,
      "metadata": {
        "id": "pD_yStz_TCja",
        "outputId": "8db1f0e0-176f-4c63-bf6c-14dd454bd862"
      },
      "outputs": [
        {
          "data": {
            "text/plain": [
              "'mourlas media uoa'"
            ]
          },
          "execution_count": 128,
          "metadata": {},
          "output_type": "execute_result"
        }
      ],
      "source": [
        "\" \".join([\"mourlas\", \"media\", \"uoa\"])\n",
        "#\"ou\".join([\"Your\", \"String\"])"
      ]
    },
    {
      "cell_type": "markdown",
      "metadata": {
        "id": "8r5HBJWOTCja"
      },
      "source": [
        "## <span style=\"color:red\">*Άσκηση 1*</span>\n",
        "\n",
        "<span style=\"color:red\">\n",
        "\n",
        "Αλλάξτε το όνομα του notebook βάζοντας το όνομά σας και homework-1-part1-lastname\n",
        "\n",
        "Ακριβώς κάτω από αυτό το κελί προσθέστε νέα κελιά στα οποία θα:\n",
        "\n",
        "Θα φτιάξετε μια λίστα με τους παρακάτω αριθμούς: 23, 91, 0, -11, 4, 23 και 49.\n",
        "Βρείτε τον αριθμό των αντικειμένων της λίστας.\n",
        "Βρείτε το 4ο στοιχείο της λίστας.\n",
        "Βρείτε το άθροισμα του 2ου και του 4ου στοιχείου της λίστας.\n",
        "Βρείτε το 2ο μεγαλύτερο στοιχείο της λίστας.\n",
        "Βρείτε το τελευταίο αντικείμενο της αρχικής λίστας (χωρίς σορτάρισμα).\n",
        "Για κάθε αριθμό να εμφανίσετε έναν αριθμό: αν ο αρχικός αριθμός είναι μεγαλύτερος του 10, πολλαπλασιάστε με το 30. Αν επίσης είναι ζυγός αριθμός, προσθέστε 6. Αν είναι μεγαλύτερος του 50, αφαιρέστε 10. Αν δεν είναι ίσος με -11, αφαιρέστε 1. (Για παράδειγμα το 12 είναι μεγαλύτερο του 10, άρα πολλαπλασιάζουμε 12 * 30 = 360, είναι επίσης ζυγός αριθμός, άρα 360 + 6 = 366, δεν είναι ίσο με -11, άρα 366-1=365.)\n",
        "\n",
        "Βρείτε το σύνολο των αριθμών δια δύο.\n",
        "</span>"
      ]
    },
    {
      "cell_type": "code",
      "execution_count": 5,
      "metadata": {
        "id": "QSn8Tg6RTCjb",
        "colab": {
          "base_uri": "https://localhost:8080/"
        },
        "outputId": "8f6fe57e-0a61-4768-9d08-bb27d324765a"
      },
      "outputs": [
        {
          "output_type": "execute_result",
          "data": {
            "text/plain": [
              "7"
            ]
          },
          "metadata": {},
          "execution_count": 5
        }
      ],
      "source": [
        "list = [ 23,91,0,-11,4,23,49]\n",
        "len (list)\n",
        "\n"
      ]
    },
    {
      "cell_type": "code",
      "source": [
        "print (list [3])\n"
      ],
      "metadata": {
        "colab": {
          "base_uri": "https://localhost:8080/"
        },
        "id": "3tpHfVQleja6",
        "outputId": "b8c26e61-9683-493d-f8c7-fc9d1335372c"
      },
      "execution_count": 6,
      "outputs": [
        {
          "output_type": "stream",
          "name": "stdout",
          "text": [
            "-11\n"
          ]
        }
      ]
    },
    {
      "cell_type": "code",
      "source": [
        "sum\n",
        "print ([2+4])"
      ],
      "metadata": {
        "colab": {
          "base_uri": "https://localhost:8080/"
        },
        "id": "RIe1sBcZe4TH",
        "outputId": "53e6aeb7-e62f-492f-e78f-e7e301a5f528"
      },
      "execution_count": 11,
      "outputs": [
        {
          "output_type": "stream",
          "name": "stdout",
          "text": [
            "[6]\n"
          ]
        }
      ]
    }
  ],
  "metadata": {
    "kernelspec": {
      "display_name": "Python 3",
      "language": "python",
      "name": "python3"
    },
    "language_info": {
      "codemirror_mode": {
        "name": "ipython",
        "version": 3
      },
      "file_extension": ".py",
      "mimetype": "text/x-python",
      "name": "python",
      "nbconvert_exporter": "python",
      "pygments_lexer": "ipython3",
      "version": "3.6.7"
    },
    "colab": {
      "provenance": [],
      "toc_visible": true,
      "include_colab_link": true
    }
  },
  "nbformat": 4,
  "nbformat_minor": 0
}