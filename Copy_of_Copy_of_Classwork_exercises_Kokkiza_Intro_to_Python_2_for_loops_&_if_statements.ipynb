{
  "nbformat": 4,
  "nbformat_minor": 0,
  "metadata": {
    "colab": {
      "provenance": [],
      "include_colab_link": true
    },
    "kernelspec": {
      "name": "python3",
      "display_name": "Python 3"
    },
    "language_info": {
      "name": "python"
    }
  },
  "cells": [
    {
      "cell_type": "markdown",
      "metadata": {
        "id": "view-in-github",
        "colab_type": "text"
      },
      "source": [
        "<a href=\"https://colab.research.google.com/github/marilena238/datastories_for_emme/blob/main/Copy_of_Copy_of_Classwork_exercises_Kokkiza_Intro_to_Python_2_for_loops_%26_if_statements.ipynb\" target=\"_parent\"><img src=\"https://colab.research.google.com/assets/colab-badge.svg\" alt=\"Open In Colab\"/></a>"
      ]
    },
    {
      "cell_type": "markdown",
      "source": [
        "#Ασκήσεις του μαθήματος \"Εισαγωγή στην Python 2 - Εντολές ελέγχου: for και if\""
      ],
      "metadata": {
        "id": "AGAGAw3z6_bZ"
      }
    },
    {
      "cell_type": "markdown",
      "source": [
        "\n",
        "\n",
        "---\n",
        "\n",
        "####**Άσκηση 1**\n",
        "\n",
        "**Try yourself**: Φτιάξτε ένα νέο κελί κώδικα ακριβώς από κάτω και:\n",
        "\n",
        "* Φτιάξτε μια λίστα με ονόματα 3 αγαπημένων σας ηθοποιών\n",
        "* Φτιάξτε άλλη μια λίστα με το βαθμό (από το 1 έως το 10) που θα τους βάζατε\n",
        "* Φτιάξτε μια λούπα που να τρέχει στη λίστα των ηθποιών και να τυπώνει το όνομα του/της ηθοποιού με το βαθμό του "
      ],
      "metadata": {
        "id": "9KIe03Wzq7p3"
      }
    },
    {
      "cell_type": "code",
      "source": [
        "actors = [\"Jenifer Aniston\", \"Leonardo Dicaprio\", \"Timothee Chalamet\"]\n",
        "numbers = [10, 9, 8]\n",
        "for name in actors:\n",
        "   print(name)\n",
        "for number in numbers:\n",
        "   print(number)"
      ],
      "metadata": {
        "colab": {
          "base_uri": "https://localhost:8080/"
        },
        "id": "rqCjlNbgHkuv",
        "outputId": "c2f804f1-8398-48f1-e50b-f55bb4cd5d08"
      },
      "execution_count": null,
      "outputs": [
        {
          "output_type": "stream",
          "name": "stdout",
          "text": [
            "Jenifer Aniston\n",
            "Leonardo Dicaprio\n",
            "Timothee Chalamet\n",
            "10\n",
            "9\n",
            "8\n"
          ]
        }
      ]
    },
    {
      "cell_type": "code",
      "source": [
        "for i in range(0,3):\n",
        "   print(actors[i], numbers[i])\n"
      ],
      "metadata": {
        "colab": {
          "base_uri": "https://localhost:8080/"
        },
        "id": "cLMdH12sOPy7",
        "outputId": "b9ab6d60-0a3e-4bbf-84a9-40a8d8127ec6"
      },
      "execution_count": null,
      "outputs": [
        {
          "output_type": "stream",
          "name": "stdout",
          "text": [
            "Jenifer Aniston 10\n",
            "Leonardo Dicaprio 9\n",
            "Timothee Chalamet 8\n"
          ]
        }
      ]
    },
    {
      "cell_type": "markdown",
      "source": [
        "\n",
        "\n",
        "---\n",
        "\n",
        "####**Άσκηση 2**\n",
        "\n",
        "**Try yourself**: Στο παρακάτω κελί και κάτω από τον υπάρχοντα κώδικα:\n",
        "\n",
        "* φτιάξτε μια for loop που θα τρέχει 22 φορές και \n",
        "* θα φτιάχνει μια μεταβλητή με όνομα c και τιμή το άθροισμα των a και b\n",
        "* θα τυπώνει την τιμή του c\n",
        "* θα αλλάζει την τιμή του a σε b και  \n",
        "* θα αλλάζει την τιμή του b σε c\n",
        "* τρέξτε τον κώδικα\n"
      ],
      "metadata": {
        "id": "wJDRIJj4seRf"
      }
    },
    {
      "cell_type": "code",
      "source": [
        "a=2\n",
        "b=2\n",
        "for x in range(21):\n",
        "   c = a + b\n",
        "   print(c)\n",
        "   a=b\n",
        "   b=c\n"
      ],
      "metadata": {
        "colab": {
          "base_uri": "https://localhost:8080/"
        },
        "id": "FbMJITEaSo0Y",
        "outputId": "0206c0b1-85c2-4404-b5b5-8040e13c36cb"
      },
      "execution_count": null,
      "outputs": [
        {
          "output_type": "stream",
          "name": "stdout",
          "text": [
            "4\n",
            "6\n",
            "10\n",
            "16\n",
            "26\n",
            "42\n",
            "68\n",
            "110\n",
            "178\n",
            "288\n",
            "466\n",
            "754\n",
            "1220\n",
            "1974\n",
            "3194\n",
            "5168\n",
            "8362\n",
            "13530\n",
            "21892\n",
            "35422\n",
            "57314\n"
          ]
        }
      ]
    },
    {
      "cell_type": "code",
      "source": [
        "a = 0 \n",
        "b = 1\n",
        "print(a)\n",
        "print(b)\n"
      ],
      "metadata": {
        "id": "cM6QC3X0twzD",
        "colab": {
          "base_uri": "https://localhost:8080/"
        },
        "outputId": "ec715c15-4bee-40b8-aaa2-468ac3211b20"
      },
      "execution_count": null,
      "outputs": [
        {
          "output_type": "stream",
          "name": "stdout",
          "text": [
            "0\n",
            "1\n",
            "1\n",
            "2\n",
            "3\n",
            "5\n",
            "8\n",
            "13\n",
            "21\n",
            "34\n",
            "55\n",
            "89\n",
            "144\n",
            "233\n",
            "377\n",
            "610\n",
            "987\n",
            "1597\n",
            "2584\n",
            "4181\n",
            "6765\n",
            "10946\n",
            "17711\n",
            "28657\n"
          ]
        }
      ]
    },
    {
      "cell_type": "markdown",
      "source": [
        "\n",
        "\n",
        "---\n",
        "\n",
        "####**Άσκηση 3**\n",
        "\n",
        "**Try yourself**: Συμπληρώστε το παρακάτω code cell, ακολουθώντας τα σχόλια που περιέχει, έτσι ώστε ο κώδικας:\n",
        "\n",
        "* να φτιάχνει ένα λεξικό με κλειδιά τις πόλεις: Αθήνα, θεσσαλονίκη, Λισαβόνα και τιμές σε όλα το 0\n",
        "* να φτιάχνει μια λίστα με τιμές αριθμούς που δηλώνουν τις θερμοκρασίες της ημέρας σε κάθε πόλη: 19, 17, 21\n",
        "* να περιέχει μια λούπα που θα τρέχει αριθμούς στο εύρος των τιμών που μπορεί να πάρει το index των αντικειμένων της λίστας και\n",
        "  1. θα εκχωρεί το εκάστοτε όνομα του key του λεξικού σε μια μεταβλητή\n",
        "  2. θα θέτει σαν τιμή του εκάστοτε κλειδιού την αντίστοιχη τιμή από τη λίστα των θερμοκρασιών\n",
        "\n",
        "**Tips**: \n",
        "* θα χρησιμοποιηθεί η συνάρτηση list για να μετατραπεί το set των keys() σε λίστα\n",
        "* θα χρησιμοποιηθεί ο αριθμός index για να επιλέγονται τα keys του λεξικού και τα αντικείμενα της λίστας\n"
      ],
      "metadata": {
        "id": "s72eW477yQAa"
      }
    },
    {
      "cell_type": "code",
      "source": [
        "empty={}\n",
        "cities={\n",
        "    \"Athens\": 0,\n",
        "    \"Thessaloniki\": 0,\n",
        "    \"Lisboa\": 0,\n",
        "}\n",
        "print(cities)\n",
        "print(type(cities))     "
      ],
      "metadata": {
        "id": "B3q5-E7NXc0c",
        "colab": {
          "base_uri": "https://localhost:8080/"
        },
        "outputId": "5eaa8e50-e938-4853-be84-e2dbecd57f93"
      },
      "execution_count": null,
      "outputs": [
        {
          "output_type": "stream",
          "name": "stdout",
          "text": [
            "{'Athens': 0, 'Thessaloniki': 0, 'Lisboa': 0}\n",
            "<class 'dict'>\n"
          ]
        }
      ]
    },
    {
      "cell_type": "code",
      "source": [
        "cities = [\"Athens\", \"Thessaloniki\", \"Lisboa\"]\n",
        "temperature = [19, 17, 21]\n",
        "for name in cities:\n",
        "   print(name)\n",
        "for number in temperature:\n",
        "   print(number)"
      ],
      "metadata": {
        "colab": {
          "base_uri": "https://localhost:8080/"
        },
        "id": "lybFkJ3qMVVo",
        "outputId": "9899939c-0705-41a7-820b-2df7554a9204"
      },
      "execution_count": null,
      "outputs": [
        {
          "output_type": "stream",
          "name": "stdout",
          "text": [
            "Athens\n",
            "Thessaloniki\n",
            "Lisboa\n",
            "19\n",
            "17\n",
            "21\n"
          ]
        }
      ]
    },
    {
      "cell_type": "code",
      "source": [
        "for i in range(0,3):\n",
        "  print(cities[i], temperature [i])\n"
      ],
      "metadata": {
        "colab": {
          "base_uri": "https://localhost:8080/"
        },
        "id": "46L6imivORpE",
        "outputId": "38a9c3fc-6326-423b-c61b-6fde23480621"
      },
      "execution_count": null,
      "outputs": [
        {
          "output_type": "stream",
          "name": "stdout",
          "text": [
            "Athens 19\n",
            "Thessaloniki 17\n",
            "Lisboa 21\n"
          ]
        }
      ]
    },
    {
      "cell_type": "code",
      "source": [
        "cities = [\"Athens\", \"Thessaloniki\", \"Lisboa\"]\n",
        "for city in enumerate(cities):\n",
        "    print(city[0],city[1])"
      ],
      "metadata": {
        "id": "UJ0jeO67Q66G",
        "colab": {
          "base_uri": "https://localhost:8080/"
        },
        "outputId": "4ad4a492-4391-452a-dae0-d8030c1f03a4"
      },
      "execution_count": 2,
      "outputs": [
        {
          "output_type": "stream",
          "name": "stdout",
          "text": [
            "0 Athens\n",
            "1 Thessaloniki\n",
            "2 Lisboa\n"
          ]
        }
      ]
    },
    {
      "cell_type": "code",
      "source": [],
      "metadata": {
        "id": "iteWlEpwzuLW"
      },
      "execution_count": null,
      "outputs": []
    },
    {
      "cell_type": "markdown",
      "source": [],
      "metadata": {
        "id": "9ibIeStG2BIv"
      }
    },
    {
      "cell_type": "code",
      "source": [
        "from _typeshed import ProfileFunction\n",
        "# φτιάξε ένα λεξικό με κλειδιά τις πόλεις: Αθήνα, θεσσαλονίκη, Λισαβόνα και τιμές σε όλα το 0\n",
        "cities_tempD = \n",
        "            \n",
        "    \n",
        "\n",
        "# φτιάξτε μια λίστα με τιμές αριθμούς που δηλώνουν τις θερμοκρασίες της ημέρας σε κάθε πόλη: 19, 17, 21\n",
        "tempL = \n",
        "\n",
        "# φτιάξτε μια for λούπα που θα τρέχει αριθμούς στο εύρος των τιμών που μπορεί να πάρει το index των αντικειμένων της λίστας temp\n",
        "\n",
        "  # δώσε στη μεταβλητή key την τιμή του κλειδιού του λεξικού που αντιστοιχεί στον τρέχοντα αριθμό index\n",
        "  # μην ξεχάσετε να μετατρέψετε το set των keys σε λίστα - προσοχή στις παρενθέσεις\n",
        "  key = \n",
        "  # δώσε στο τρέχον key του λεξικού την τιμή από τη λίστα των θερμοκρασιών που αντιστοιχεί στον τρέχοντα αριθμό index\n",
        "  \n",
        "# (εκτός της for λούπας - δηλαδή χωρίς intend) τύπωσε το λεξικό\n"
      ],
      "metadata": {
        "id": "Vc3syTaA0KPe",
        "colab": {
          "base_uri": "https://localhost:8080/",
          "height": 130
        },
        "outputId": "7c7517c1-2b8a-40ae-b9b7-ced46ec4cba9"
      },
      "execution_count": null,
      "outputs": [
        {
          "output_type": "error",
          "ename": "SyntaxError",
          "evalue": "ignored",
          "traceback": [
            "\u001b[0;36m  File \u001b[0;32m\"<ipython-input-4-0464758f4566>\"\u001b[0;36m, line \u001b[0;32m3\u001b[0m\n\u001b[0;31m    cities_tempD =\u001b[0m\n\u001b[0m                   ^\u001b[0m\n\u001b[0;31mSyntaxError\u001b[0m\u001b[0;31m:\u001b[0m invalid syntax\n"
          ]
        }
      ]
    },
    {
      "cell_type": "code",
      "source": [
        "temperatureL=[]"
      ],
      "metadata": {
        "id": "eAJC8_ctZHln"
      },
      "execution_count": null,
      "outputs": []
    },
    {
      "cell_type": "markdown",
      "source": [
        "\n",
        "\n",
        "---\n",
        "\n",
        "####**Ασκηση 4**\n",
        "\n",
        "**Try yourself**: \n",
        "\n",
        "Στο κελί κώδικα ακριβώς κάτω από αυτό:\n",
        "\n",
        "* δημιουργήστε μια μεταβλητή με τιμή το όνομά σας και τρέξτε το κελί\n",
        "\n",
        "Φτιάξτε ένα **νέο κελί** (Code cell) από κάτω και:\n",
        "\n",
        "* γράψτε ένα κομμάτι κώδικα το οποίο:\n",
        "  * θα ελέγχει αν η τιμή της μεταβλητής του ονόματος είναι \"Terry\"\n",
        "  * αν είναι, θα τυπώνει στην οθόνη \"Γειά σου Terry!\"\n",
        "  * αν δεν είναι:\n",
        "    * θα τυπώνει \"Wrong user\" και \n",
        "    * θα θέτει στη μεταβλητή του ονόματός σας την τιμή \"Terry\"\n",
        "* πριν τρέξετε το κελί, μαντέψτε τι θα τυπωθεί στην οθόνη\n",
        "* τρέξτε το κελί και συγκρίνετε το αποτέλεσμα με τη μαντεψιά σας\n",
        "* τι θα τυπωθεί αν ξανατρέξετε το κελί;"
      ],
      "metadata": {
        "id": "HSPetZqoTPiy"
      }
    },
    {
      "cell_type": "code",
      "source": [
        "name=\"Marilena Kokkiza\"\n",
        "print(name)"
      ],
      "metadata": {
        "id": "Kq6yGIKdKKRT",
        "colab": {
          "base_uri": "https://localhost:8080/"
        },
        "outputId": "9c69c875-e14b-4609-8895-18a6f0481738"
      },
      "execution_count": 1,
      "outputs": [
        {
          "output_type": "stream",
          "name": "stdout",
          "text": [
            "Marilena Kokkiza\n"
          ]
        }
      ]
    },
    {
      "cell_type": "code",
      "source": [
        "if name==\"Terry\":\n",
        "   print(\"Hello Terry\")\n",
        "else :\n",
        "   print(\"Wrong user\")\n",
        "   name=\"Terry\"\n",
        "   print(\"Terry\")"
      ],
      "metadata": {
        "colab": {
          "base_uri": "https://localhost:8080/"
        },
        "id": "dSpH2IMca4yl",
        "outputId": "114e0110-5d53-4de2-e57b-5f8c6c864dd2"
      },
      "execution_count": 2,
      "outputs": [
        {
          "output_type": "stream",
          "name": "stdout",
          "text": [
            "Wrong user\n",
            "Terry\n"
          ]
        }
      ]
    },
    {
      "cell_type": "markdown",
      "source": [
        "* πώς θα κάνετε να ξανατυπώσει \"Wrong user\" χωρίς να γράψετε καθόλου κώδικα; Γράψτε την απάντηση από κάτω σε ένα text cell ή σε ένα code cell σαν comment."
      ],
      "metadata": {
        "id": "76wOxK3XjOek"
      }
    },
    {
      "cell_type": "markdown",
      "source": [
        "Αν ξανατρέξω το κελί τυπώνεται το Wring user.\n",
        "Θα το κάνω να ξανατυπώσει wrong user χωρίς να γράψω καθόλου κώδικα, εαν τρέξω το πρώτο code cell και μετά το δεύτερο."
      ],
      "metadata": {
        "id": "jg52EpErevE6"
      }
    },
    {
      "cell_type": "markdown",
      "source": [
        "\n",
        "\n",
        "---\n",
        "\n",
        "####**Άσκηση 5**"
      ],
      "metadata": {
        "id": "hedzZ2gBa-6g"
      }
    },
    {
      "cell_type": "markdown",
      "source": [
        "Έστω ότι έχουμε μια λίστα με φρούτα"
      ],
      "metadata": {
        "id": "fmsiDiVgccAP"
      }
    },
    {
      "cell_type": "code",
      "source": [
        "fruitsL = [\"apples\", \"oranges\", \"strawberries\", \"apricots\"]"
      ],
      "metadata": {
        "id": "cBI43Hg2Z3VD"
      },
      "execution_count": null,
      "outputs": []
    },
    {
      "cell_type": "markdown",
      "source": [
        "και μια λίστα με τους αριθμούς 1 και 10"
      ],
      "metadata": {
        "id": "H-rytYULOAY0"
      }
    },
    {
      "cell_type": "code",
      "source": [
        "countsL = [1, 10]"
      ],
      "metadata": {
        "id": "EFDfTEhtOHKK"
      },
      "execution_count": null,
      "outputs": []
    },
    {
      "cell_type": "markdown",
      "source": [
        "Γράψτε έναν κώδικα που θα λουπάρει σε όλα τα φρούτα της λίστας και σε όλους τους αριθμούς της countL και θα τυπώνει το μήνυμα: We've got <αριθμός> <φρούτο>\n",
        "\n",
        "**Tip**: χρησιμοποιήστε nested for loops (μια for loop μέσα σε μια άλλη for loop)"
      ],
      "metadata": {
        "id": "RLB0fP0gczIt"
      }
    },
    {
      "cell_type": "code",
      "source": [
        "for fruit in fruitsL:\n"
      ],
      "metadata": {
        "id": "urHIQr5VdQXb",
        "colab": {
          "base_uri": "https://localhost:8080/",
          "height": 130
        },
        "outputId": "9294c3c5-f41f-4a2d-d7f1-c0137acb8722"
      },
      "execution_count": null,
      "outputs": [
        {
          "output_type": "error",
          "ename": "IndentationError",
          "evalue": "ignored",
          "traceback": [
            "\u001b[0;36m  File \u001b[0;32m\"<ipython-input-1-ef5e4e68d21a>\"\u001b[0;36m, line \u001b[0;32m1\u001b[0m\n\u001b[0;31m    for fruit in fruitsL:\u001b[0m\n\u001b[0m                         ^\u001b[0m\n\u001b[0;31mIndentationError\u001b[0m\u001b[0;31m:\u001b[0m expected an indented block\n"
          ]
        }
      ]
    },
    {
      "cell_type": "markdown",
      "source": [
        "Όλα καλά, αλλά υπάρχει ένα γραμματικό λάθος. Στον ενικό, τα φρούτα δεν πρέπει να έχουν \"s\" στο τέλος."
      ],
      "metadata": {
        "id": "666ViCUydhZC"
      }
    },
    {
      "cell_type": "markdown",
      "source": [
        "Ξέρουμε ήδη ότι ένα string είναι λίστα. Επομένως μπορούμε χρησιμοποιώντας το slicing να πάρουμε τα ονόματα των φρούτων στον ενικό αφαιρώντας το \"s\" που είναι στο τέλος."
      ],
      "metadata": {
        "id": "gOZ3V13gd_CJ"
      }
    },
    {
      "cell_type": "code",
      "source": [
        "fruitsL[0][:-1]   # καλούμε το πρώτο όνομα της λίστας και από αυτό κρατάμε τα γράμματα από την αρχή έως το προτελευταίο"
      ],
      "metadata": {
        "id": "CfYY5HAie8gY",
        "colab": {
          "base_uri": "https://localhost:8080/",
          "height": 35
        },
        "outputId": "b7ad8c1f-372b-4241-9b09-988de02ad295"
      },
      "execution_count": null,
      "outputs": [
        {
          "output_type": "execute_result",
          "data": {
            "text/plain": [
              "'apple'"
            ],
            "application/vnd.google.colaboratory.intrinsic+json": {
              "type": "string"
            }
          },
          "metadata": {},
          "execution_count": 4
        }
      ]
    },
    {
      "cell_type": "markdown",
      "source": [
        "Πολύ ωραία! Στο επόμενο cell, εφαρμόστε το slicing στη λούπα που γράψατε παραπάνω και τρέξτε το."
      ],
      "metadata": {
        "id": "ZO7tnWeZfm5D"
      }
    },
    {
      "cell_type": "code",
      "source": [
        "for fruit in fruitsL:\n"
      ],
      "metadata": {
        "id": "t7OHtmn8gGYH",
        "colab": {
          "base_uri": "https://localhost:8080/"
        },
        "outputId": "c6635230-e9f9-4100-903e-57c47dd1ac5f"
      },
      "execution_count": null,
      "outputs": [
        {
          "output_type": "stream",
          "name": "stdout",
          "text": [
            "We've got 1 apple\n",
            "We've got 10 apple\n",
            "We've got 1 orange\n",
            "We've got 10 orange\n",
            "We've got 1 strawberrie\n",
            "We've got 10 strawberrie\n",
            "We've got 1 apricot\n",
            "We've got 10 apricot\n"
          ]
        }
      ]
    },
    {
      "cell_type": "markdown",
      "source": [
        "Ωραία, αλλά τώρα έφυγε το \"s\" και από τον πληθυντικό. Προσθέστε στον κώδικα ένα if (μέσα στη δεύτερη for loop) για να ελέγξετε το πότε θα αφαιρείται το \"s\" και πότε θα παραμένει.\n",
        "\n",
        "**Tip**: Πολλές φορές, όταν υπάρχει μια σχετική πολυπλοκότητα, επειδή αν αρχίσουμε να γράφουμε υπάρχει ο σοβαρότατος κίνδυνος να μας σπάσουν τα νεύρα, βοηθάει να γράψουμε πρώτα έναν \"ψευτοκώδικα\" για να ξεκαθαρίσουμε τι πρέπει να γίνει:\n",
        "\n",
        "```\n",
        "Για κάθε φρούτο στη fruitsL:\n",
        "  Για κάθε αριθμό στην countsL:\n",
        "    Αν ο αριθμός είναι 1:\n",
        "      σωστό_φρούτο = <φρούτο από τη λίστα χωρίς \"s\">\n",
        "      τύπωσε(έχουμε <αριθμός> <σωστό_φρούτο>)\n",
        "    Αλλιώς:\n",
        "      τύπωσε(έχουμε <αριθμός> <φρούτο από τη λίστα>)\n",
        "```"
      ],
      "metadata": {
        "id": "D333sJzwWz0p"
      }
    },
    {
      "cell_type": "code",
      "source": [
        "for fruit in fruitsL:\n"
      ],
      "metadata": {
        "colab": {
          "base_uri": "https://localhost:8080/"
        },
        "id": "Itb_lvw7XfGb",
        "outputId": "8b70dba8-dec8-4d13-a1da-0bf7b8e4a51b"
      },
      "execution_count": null,
      "outputs": [
        {
          "output_type": "stream",
          "name": "stdout",
          "text": [
            "We've got 1 apple\n",
            "We've got 10 apples\n",
            "We've got 1 orange\n",
            "We've got 10 oranges\n",
            "We've got 1 strawberrie\n",
            "We've got 10 strawberries\n",
            "We've got 1 apricot\n",
            "We've got 10 apricots\n"
          ]
        }
      ]
    },
    {
      "cell_type": "markdown",
      "source": [
        "Ωραία, αλλά και πάλι, το strawberrie δεν είναι σωστό. \n",
        "\n",
        "Αντιγράψτε τον κώδικα και προσθέστε μια εντολή if, η οποία θα ελέγχει αν το τρίτο γράμμα από το τέλος του εκάστοτε ονόματος στη λίστα των φρούτων είναι \"i\" (strawberr**i**es). Αν είναι, τότε θα αντικαθιστά (replace) ό,τι πρέπει να αντικατασταθεί όταν τυπώνει το όνομα. \n",
        "\n",
        "**Help**: o ψευτοκώδικας θα ήταν κάπως έτσι:\n",
        "\n",
        "```\n",
        "Για κάθε φρούτο στη fruitsL:\n",
        "  Για κάθε αριθμό στην countsL:\n",
        "    Αν ο αριθμός είναι 1:\n",
        "      Αν <το 3ο γράμμα απ' το τέλος στο όνομα του φρούτου> είναι \"i\":\n",
        "        σωστό_όνομα = <φρούτο απ'τη λίστα με αντικατάσταση της κατάληξης τάδε με τάδε> \n",
        "        τύπωσε(έχουμε <αριθμός> <σωστό όνομα>)\n",
        "      Αλλιώς:\n",
        "        τύπωσε(έχουμε <αριθμός> <φρούτο από τη λίστα χωρίς \"s\">)\n",
        "    Αλλιώς:\n",
        "      τύπωσε(έχουμε <αριθμός> <φρούτο από τη λίστα)\n",
        "```"
      ],
      "metadata": {
        "id": "gEgSD4T8gR9J"
      }
    },
    {
      "cell_type": "code",
      "source": [],
      "metadata": {
        "id": "VcUhUTNDhBHs",
        "colab": {
          "base_uri": "https://localhost:8080/"
        },
        "outputId": "a4b77635-3796-40d3-84e9-ce57f541507f"
      },
      "execution_count": null,
      "outputs": [
        {
          "output_type": "stream",
          "name": "stdout",
          "text": [
            "We've got 1 apple\n",
            "We've got 10 apples\n",
            "We've got 1 orange\n",
            "We've got 10 oranges\n",
            "We've got 1 strawberry\n",
            "We've got 10 strawberries\n",
            "We've got 1 apricot\n",
            "We've got 10 apricots\n"
          ]
        }
      ]
    }
  ]
}