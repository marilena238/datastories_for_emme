{
  "nbformat": 4,
  "nbformat_minor": 0,
  "metadata": {
    "colab": {
      "provenance": [],
      "include_colab_link": true
    },
    "kernelspec": {
      "name": "python3",
      "display_name": "Python 3"
    },
    "language_info": {
      "name": "python"
    }
  },
  "cells": [
    {
      "cell_type": "markdown",
      "metadata": {
        "id": "view-in-github",
        "colab_type": "text"
      },
      "source": [
        "<a href=\"https://colab.research.google.com/github/marilena238/datastories_for_emme/blob/main/Copy_of_Classwork_exercises_Kokkiza_Intro_to_Python_1_Variables%2C_data_types%2C_operators%2C_functions_%26_methods.ipynb\" target=\"_parent\"><img src=\"https://colab.research.google.com/assets/colab-badge.svg\" alt=\"Open In Colab\"/></a>"
      ]
    },
    {
      "cell_type": "markdown",
      "source": [
        "#Ασκήσεις του μαθήματος \"Εισαγωγή στην Python 1 - Variables, data types (integers, floats, stings, boolean, lists, dictionaries), mathematical & comparison operators, functions & methods"
      ],
      "metadata": {
        "id": "eZ6s1jOQBAty"
      }
    },
    {
      "cell_type": "markdown",
      "source": [
        "\n",
        "\n",
        "---\n",
        "\n",
        "\n",
        "####**Άσκηση 2** (Προαιρετικά)\n",
        "\n",
        "**Try yourself**: Φτιάξτε ένα νέο κελί κώδικα (Code cell) ακριβώς κάτω από αυτό και δημιουργήστε μεταβλητές με τα στοιχεία σας:\n",
        "\n",
        "*   το μικρό σας όνομα\n",
        "*   το επίθετό σας\n",
        "*   το email σας\n",
        "*   το εξάμηνό σας\n",
        "*   τυπώστε όλα μαζί τα παραπάνω στην οθόνη"
      ],
      "metadata": {
        "id": "wiiXoX3tfVML"
      }
    },
    {
      "cell_type": "code",
      "source": [
        "first_name= \"Marilena\"\n",
        "last_name= \"Kokkiza\"\n",
        "email= \"mkokkiza@gmail.com\"\n",
        "semester= \"4th semester\"\n",
        "print(first_name,last_name,email,semester)"
      ],
      "metadata": {
        "colab": {
          "base_uri": "https://localhost:8080/"
        },
        "id": "8AjqMATutW6e",
        "outputId": "0c7c3a10-888a-43f4-b0df-d83f0b5e1d13"
      },
      "execution_count": null,
      "outputs": [
        {
          "output_type": "stream",
          "name": "stdout",
          "text": [
            "Marilena Kokkiza mkokkiza@gmail.com 4th semester\n"
          ]
        }
      ]
    },
    {
      "cell_type": "markdown",
      "source": [
        "\n",
        "\n",
        "---\n",
        "\n",
        "####**Άσκηση 3**\n",
        "\n",
        "**Try yourself**: Φτιάξτε ένα νέο κελί κώδικα (Code cell) ακριβώς κάτω από αυτό και κάνετε τα παρακάτω:\n",
        "\n",
        "* δημιουργήστε 3 μεταβλητές, όπου η καθεμιά θα έχει τη θερμοκρασία του αέρα όπως την καταγράψαμε το πρωί, το μεσημέρι και το βράδυ\n",
        "* βρείτε το μέσο όρο των θερμοκρασιών\n",
        "* βρείτε τη μέγιστη διαφορά των θερμοκρασιών\n",
        "* δημιουργήστε μια νέα μεταβλητή που θα περιέχει την τιμή της μέσης θερμοκρασίας σε ακέραιο\n",
        "* ελέγξτε τα αποτελέσματα τυπώνοντάς τα στην οθόνη\n"
      ],
      "metadata": {
        "id": "yrhDlp7r8Jsi"
      }
    },
    {
      "cell_type": "code",
      "source": [
        "\n",
        "m_temp=10\n",
        "n_temp=12\n",
        "ni_temp=8\n",
        "a = m_temp + n_temp + ni_temp\n",
        "b =m_temp + n_temp + ni_temp/3\n",
        "m_temp,n_temp,ni_temp=[10,12,8]\n",
        "c=m_temp + n_temp + ni_temp//3\n",
        "\n",
        "print(\"m_temp+n_temp+ni_temp =\", a)\n",
        "print(\"m_temp+n_temp+ni_temp/3 =\", b)\n",
        "print(max(m_temp,n_temp,ni_temp))\n",
        "print(\"m_temp+n_temp+ni_temp//3=\", c)\n"
      ],
      "metadata": {
        "id": "jDtBox4AzxBf",
        "outputId": "b4de4432-29a4-404f-e516-49baa5d156b4",
        "colab": {
          "base_uri": "https://localhost:8080/"
        }
      },
      "execution_count": null,
      "outputs": [
        {
          "output_type": "stream",
          "name": "stdout",
          "text": [
            "m_temp+n_temp+ni_temp = 30\n",
            "m_temp+n_temp+ni_temp/3 = 24.666666666666668\n",
            "12\n",
            "m_temp+n_temp+ni_temp//3= 24\n"
          ]
        }
      ]
    },
    {
      "cell_type": "markdown",
      "source": [
        "\n",
        "\n",
        "---\n",
        "\n",
        "####**Άσκηση 4**\n",
        "\n",
        "**Try yourself**: Φτιάξτε ένα νέο κελί κώδικα (Code cell) ακριβώς κάτω από αυτό και κάνετε τα παρακάτω:\n",
        "\n",
        "* δημιουργήστε μια μεταβλητή με την πόλη που μένετε και μία με το αγαπημένο σας ταξιδιωτικό προορισμό\n",
        "* ελέγξτε την ομοιότητα του τύπου των μεταβλητών\n",
        "* ελέγξτε την ισότητα των μεταβλητών\n",
        "* ελέγξτε αν η μεταβλητή της πόλης είναι μικρότερη της μεταβλητής του ταξιδιωτικού προορισμού\n",
        "\n",
        "Τι νομίζετε ότι σημαίνει ότι ένα string είναι μεγαλύτερο, μικρότερο ή ίσο με ένα άλλο; (Γράψτε την απάντησή σας σε ένα νέο text cell ή σε ένα code cell σαν σχόλιο)\n"
      ],
      "metadata": {
        "id": "pg9-mk1eTq2l"
      }
    },
    {
      "cell_type": "code",
      "source": [
        "city=\"Athens\"\n",
        "travel_dest=\"Florence\"\n",
        "\n",
        "\n",
        "print(\"city is equal to travel_dest:\", city==travel_dest)\n",
        "print(\"city and travel_dest\", type(city)==type(travel_dest))\n",
        "print(\"city is less than travel_dest:\", city <= travel_dest)"
      ],
      "metadata": {
        "colab": {
          "base_uri": "https://localhost:8080/"
        },
        "id": "PbClRUcaXFXG",
        "outputId": "dbfc7742-d6ac-480f-e719-db765fc9f5d6"
      },
      "execution_count": 16,
      "outputs": [
        {
          "output_type": "stream",
          "name": "stdout",
          "text": [
            "city is equal to travel_dest: False\n",
            "city and travel_dest True\n",
            "city is less than travel_dest: True\n"
          ]
        }
      ]
    },
    {
      "cell_type": "markdown",
      "source": [
        "Ενα string να είναι μεγαλύτερο σημαίνει ότι έχει περισσότερους χαρακτήρες(γράμματα, κενά) απο ένα αλλο string. Αντίστοιχα ένα μικρότερο string σημαίνει ότι έχει λιγότερους χαρακτήρες απο ένα άλλο string. Τέλος ένα string ίσο με άλλο σημαίνει οτι έχουν τον ίδιο αριθμό χαρακτήρων"
      ],
      "metadata": {
        "id": "du6Bi_K-ZqyH"
      }
    },
    {
      "cell_type": "markdown",
      "source": [
        "\n",
        "\n",
        "---\n",
        "\n",
        "####**Άσκηση 5**\n",
        "\n",
        "**Try yourself**: Φτιάξτε ένα νέο κελί κώδικα (Code cell) ακριβώς κάτω από αυτό και κάνετε τα παρακάτω:\n",
        "\n",
        "* δημιουργήστε μια μεταβλητή με τιμή την datetime ημερομηνία δημοσίευσης ενός άρθρου: 2023-03-24T12:07:19+02:00\n",
        "* απομονώστε την ημερομηνία και αποθηκεύστε τη σε μια μεταβλητή με κατάλληλο όνομα\n",
        "* τυπώστε την ημερομηνία\n",
        "* φτιάξτε ένα νέο code cell\n",
        "* αποθηκεύστε σε διαφορετικές μεταβλητές το έτος, το μήνα και την ημέρα (**tip**: κάντε το ένα ένα και τυπώνετε για να βλέπετε αν το κάνετε σωστά)\n",
        "* φτιάξτε ένα νέο code cell\n",
        "* απομονώστε την ώρα (το 12:07:19) και αποθηκεύστε τη σε μια νέα μεταβλητή \n",
        "* φτιάξτε ένα νέο code cell\n",
        "* χρησιμοποιώντας τις μεταβλητές που φτιάξατε, δημιουργήστε μια νέα μεταβλητή με όνομα custom_daytime που θα περιέχει: <ημέρα>/<μήνας>/<έτος>, ώρα: <ώρα>\n",
        "* και τυπώστε τη στην οθόνη"
      ],
      "metadata": {
        "id": "jIk9BoTu-f05"
      }
    },
    {
      "cell_type": "code",
      "source": [
        "datetime=\"2023-03-24T12:07:19+02:00\"\n",
        "date=\"2023-03-24\"\n",
        "print(date)\n"
      ],
      "metadata": {
        "colab": {
          "base_uri": "https://localhost:8080/"
        },
        "id": "MtImG-etajR8",
        "outputId": "f352431f-27b2-49ec-961b-9b5cf6b14fd3"
      },
      "execution_count": null,
      "outputs": [
        {
          "output_type": "stream",
          "name": "stdout",
          "text": [
            "2023-03-24\n"
          ]
        }
      ]
    },
    {
      "cell_type": "code",
      "source": [
        "year=\"2023\"\n",
        "month=\"03\"\n",
        "day=\"24\"\n",
        "\n",
        "print(year)\n",
        "print(month)\n",
        "print(day)"
      ],
      "metadata": {
        "colab": {
          "base_uri": "https://localhost:8080/"
        },
        "id": "JCRhgVn3dZ6z",
        "outputId": "910b5efb-6d4c-415c-96e3-10b0534d1e55"
      },
      "execution_count": null,
      "outputs": [
        {
          "output_type": "stream",
          "name": "stdout",
          "text": [
            "2023\n",
            "03\n",
            "24\n"
          ]
        }
      ]
    },
    {
      "cell_type": "code",
      "source": [
        "time=\"12:07:19\"\n",
        "print(time)"
      ],
      "metadata": {
        "colab": {
          "base_uri": "https://localhost:8080/"
        },
        "id": "Xi28lxqZbgPi",
        "outputId": "2edd5f7d-d0bd-411a-965a-3328a4be5f0e"
      },
      "execution_count": null,
      "outputs": [
        {
          "output_type": "stream",
          "name": "stdout",
          "text": [
            "12:07:19\n"
          ]
        }
      ]
    },
    {
      "cell_type": "code",
      "source": [
        "custom_daytime= day,month,year,time\n",
        "print(custom_daytime)"
      ],
      "metadata": {
        "colab": {
          "base_uri": "https://localhost:8080/"
        },
        "id": "iwI-O2DGdOVB",
        "outputId": "f9645b2b-b75b-4fa6-f896-d6cb67ec3994"
      },
      "execution_count": null,
      "outputs": [
        {
          "output_type": "stream",
          "name": "stdout",
          "text": [
            "('24', '03', '2023', '12:07:19')\n"
          ]
        }
      ]
    },
    {
      "cell_type": "markdown",
      "source": [
        "\n",
        "\n",
        "---\n",
        "\n",
        "####**Άσκηση 6**\n",
        "\n",
        "**Try yourself**: Φτιάξτε ένα νέο κελί κώδικα (Code cell) ακριβώς κάτω από αυτό και κάνετε τα παρακάτω:\n",
        "\n",
        "1. Δημιουργήστε μια κενή λίστα με όνομα usersL\n",
        "2. Φτιάξτε μια μεταβλητή με όνομα email1 και τιμή ένα email\n",
        "3. Βρείτε το index του \"@\" (με function) και αποθηκεύστε το σε μια μεταβλητή με όνομα at1\n",
        "4. Πάρτε (slice) το τμήμα του mail που έχει μόνο το όνομα, αποθηκεύστε το σε μια μεταβλητή με όνομα user1 και βάλτε το στη λίστα usersL\n",
        "5. Επαναλάβετε τα βήματα 2-4 άλλη 1 φορά (κάντε copy-paste και αλλάξτε ό,τι χρειάεται)\n",
        "6. Ταξινομήστε τα περιεχόμενα της λίστας με αύξουσα σειρά και\n",
        "7. Τυπώστε τα περιεχόμενά της στην οθόνη\n",
        "\n",
        "**Tip**: χρησιμοποιήστε όσα κελιά θέλετε έτσι ώστε να ελέγχετε τι κάνετε σε κάθε βήμα"
      ],
      "metadata": {
        "id": "_agWj9vpdYL9"
      }
    },
    {
      "cell_type": "code",
      "source": [
        "usersL=[]\n",
        "email1=\"mkokkiza@gmail.com\"\n",
        "email1.index(\"@\")\n",
        "at1=8\n",
        "email= email1[0:8]\n",
        "print(email)\n",
        "user1=\"mkokkiza\"\n",
        "email2=\"amaxilati@yahoo.gr\"\n",
        "emai_l= email2[0:9]\n",
        "print(emai_l)\n",
        "user2=\"amaxilati\"\n",
        "usersL=[user1,user2]\n",
        "usersL.sort()\n",
        "print(usersL)"
      ],
      "metadata": {
        "colab": {
          "base_uri": "https://localhost:8080/"
        },
        "id": "5sD7FTxag_6i",
        "outputId": "2010c0bc-d401-4160-d4d7-92a7fd4f0a7a"
      },
      "execution_count": null,
      "outputs": [
        {
          "output_type": "stream",
          "name": "stdout",
          "text": [
            "mkokkiza\n",
            "amaxilati\n",
            "['amaxilati', 'mkokkiza']\n"
          ]
        }
      ]
    },
    {
      "cell_type": "markdown",
      "source": [
        "\n",
        "\n",
        "---\n",
        "\n",
        "####**Άσκηση 7**\n",
        "\n",
        "**Try yourself**: Σ' αυτή την άσκηση θα φτιάξουμε μια λίστα στην οποία θα αποθηκεύουμε δίάφορα δεδομένα από άρθρα που δημοσιεύονται σε sites.\n",
        "\n",
        "Φτιάξτε ένα νέο κελί κώδικα (Code cell) ακριβώς κάτω από αυτό και κάνετε τα παρακάτω:\n",
        "\n",
        "1. Δημιουργήστε μια κενή λίστα όπου θα αποθηκεύετε τα δεδομένα των άρθρων\n",
        "2. Δημιουργήστε ένα λεξικό με τα στοιχεία του πρώτου άρθρου που θα συλλέξετε από ένα site: \"Τίτλος\", \"Ημερομηνία\", \"Κατηγορία\", \"url\"\n",
        "3. Επαναλάβετε το 2 για ακόμα ένα άρθρο\n",
        "4. Προσθέστε τα λεξικά στη λίστα.\n",
        "5. Τυπώστε στην οθόνη τον τίτλο του 2ου άρθρου\n",
        "6. Προσθέστε και στα 2 άρθρα μια εγγραφή με το όνομα του αντίστοιχου site που πήρατε το άρθρο\n",
        "7. Τυπώστε στην οθόνη το πλήθος των λεξικών που έχει η λίστα.\n",
        "\n",
        "**Tip**:Δουλέψτε τμηματικά και ελέγχετε σε κάθε βήμα αυτό που κάνετε."
      ],
      "metadata": {
        "id": "KpVX9pHLNgB6"
      }
    },
    {
      "cell_type": "code",
      "source": [
        "articles_data=[]\n",
        "first_article={\"Title\":\"Greeks_of_Ukraine\",\n",
        "               \"Date\":\"4/4/23\",\n",
        "               \"category\":\"war\",\n",
        "               \"url\":\"https://www.youtube.com/watch?v=G8Y-vR5gsN4&ab_channel=VICEGreece\",\n",
        "               \"site\":\"Vice\"}\n",
        "articles_data.append(first_article)              \n",
        "second_article={\"Title\":\"Hangover_News\",\n",
        "                \"Date\":\"4/4/23\",\n",
        "                \"category\":\"social\",\n",
        "                \"url\":\"https://www.vice.com/el/article/4a3d4d/hangover-news-95-h-kalh-pra3h-ths-mpam-fc\",\n",
        "                \"site\":\"Vice\"}\n",
        "articles_data.append(second_article)\n",
        "print(second_article[\"Title\"])\n",
        "print(first_article)\n",
        "print(second_article)\n"
      ],
      "metadata": {
        "id": "VmTboCYhw2kt",
        "colab": {
          "base_uri": "https://localhost:8080/"
        },
        "outputId": "5ba9ca71-0a64-4e86-fc36-5618ff5c011f"
      },
      "execution_count": 14,
      "outputs": [
        {
          "output_type": "stream",
          "name": "stdout",
          "text": [
            "Hangover_News\n",
            "{'Title': 'Greeks_of_Ukraine', 'Date': '4/4/23', 'category': 'war', 'url': 'https://www.youtube.com/watch?v=G8Y-vR5gsN4&ab_channel=VICEGreece', 'site': 'Vice'}\n",
            "{'Title': 'Hangover_News', 'Date': '4/4/23', 'category': 'social', 'url': 'https://www.vice.com/el/article/4a3d4d/hangover-news-95-h-kalh-pra3h-ths-mpam-fc', 'site': 'Vice'}\n"
          ]
        }
      ]
    }
  ]
}